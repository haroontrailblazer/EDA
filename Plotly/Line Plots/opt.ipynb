{
 "cells": [
  {
   "cell_type": "markdown",
   "metadata": {},
   "source": [
    "1.Simple Line plot"
   ]
  },
  {
   "cell_type": "code",
   "execution_count": 1,
   "metadata": {},
   "outputs": [
    {
     "data": {
      "application/vnd.plotly.v1+json": {
       "config": {
        "plotlyServerURL": "https://plot.ly"
       },
       "data": [
        {
         "type": "scatter",
         "x": [
          110,
          120,
          130,
          140,
          150,
          160,
          170,
          180,
          190,
          200
         ],
         "y": [
          64,
          85,
          64,
          92,
          38,
          93,
          35,
          40,
          54,
          39
         ]
        }
       ],
       "layout": {
        "template": {
         "data": {
          "bar": [
           {
            "error_x": {
             "color": "#2a3f5f"
            },
            "error_y": {
             "color": "#2a3f5f"
            },
            "marker": {
             "line": {
              "color": "#E5ECF6",
              "width": 0.5
             },
             "pattern": {
              "fillmode": "overlay",
              "size": 10,
              "solidity": 0.2
             }
            },
            "type": "bar"
           }
          ],
          "barpolar": [
           {
            "marker": {
             "line": {
              "color": "#E5ECF6",
              "width": 0.5
             },
             "pattern": {
              "fillmode": "overlay",
              "size": 10,
              "solidity": 0.2
             }
            },
            "type": "barpolar"
           }
          ],
          "carpet": [
           {
            "aaxis": {
             "endlinecolor": "#2a3f5f",
             "gridcolor": "white",
             "linecolor": "white",
             "minorgridcolor": "white",
             "startlinecolor": "#2a3f5f"
            },
            "baxis": {
             "endlinecolor": "#2a3f5f",
             "gridcolor": "white",
             "linecolor": "white",
             "minorgridcolor": "white",
             "startlinecolor": "#2a3f5f"
            },
            "type": "carpet"
           }
          ],
          "choropleth": [
           {
            "colorbar": {
             "outlinewidth": 0,
             "ticks": ""
            },
            "type": "choropleth"
           }
          ],
          "contour": [
           {
            "colorbar": {
             "outlinewidth": 0,
             "ticks": ""
            },
            "colorscale": [
             [
              0,
              "#0d0887"
             ],
             [
              0.1111111111111111,
              "#46039f"
             ],
             [
              0.2222222222222222,
              "#7201a8"
             ],
             [
              0.3333333333333333,
              "#9c179e"
             ],
             [
              0.4444444444444444,
              "#bd3786"
             ],
             [
              0.5555555555555556,
              "#d8576b"
             ],
             [
              0.6666666666666666,
              "#ed7953"
             ],
             [
              0.7777777777777778,
              "#fb9f3a"
             ],
             [
              0.8888888888888888,
              "#fdca26"
             ],
             [
              1,
              "#f0f921"
             ]
            ],
            "type": "contour"
           }
          ],
          "contourcarpet": [
           {
            "colorbar": {
             "outlinewidth": 0,
             "ticks": ""
            },
            "type": "contourcarpet"
           }
          ],
          "heatmap": [
           {
            "colorbar": {
             "outlinewidth": 0,
             "ticks": ""
            },
            "colorscale": [
             [
              0,
              "#0d0887"
             ],
             [
              0.1111111111111111,
              "#46039f"
             ],
             [
              0.2222222222222222,
              "#7201a8"
             ],
             [
              0.3333333333333333,
              "#9c179e"
             ],
             [
              0.4444444444444444,
              "#bd3786"
             ],
             [
              0.5555555555555556,
              "#d8576b"
             ],
             [
              0.6666666666666666,
              "#ed7953"
             ],
             [
              0.7777777777777778,
              "#fb9f3a"
             ],
             [
              0.8888888888888888,
              "#fdca26"
             ],
             [
              1,
              "#f0f921"
             ]
            ],
            "type": "heatmap"
           }
          ],
          "heatmapgl": [
           {
            "colorbar": {
             "outlinewidth": 0,
             "ticks": ""
            },
            "colorscale": [
             [
              0,
              "#0d0887"
             ],
             [
              0.1111111111111111,
              "#46039f"
             ],
             [
              0.2222222222222222,
              "#7201a8"
             ],
             [
              0.3333333333333333,
              "#9c179e"
             ],
             [
              0.4444444444444444,
              "#bd3786"
             ],
             [
              0.5555555555555556,
              "#d8576b"
             ],
             [
              0.6666666666666666,
              "#ed7953"
             ],
             [
              0.7777777777777778,
              "#fb9f3a"
             ],
             [
              0.8888888888888888,
              "#fdca26"
             ],
             [
              1,
              "#f0f921"
             ]
            ],
            "type": "heatmapgl"
           }
          ],
          "histogram": [
           {
            "marker": {
             "pattern": {
              "fillmode": "overlay",
              "size": 10,
              "solidity": 0.2
             }
            },
            "type": "histogram"
           }
          ],
          "histogram2d": [
           {
            "colorbar": {
             "outlinewidth": 0,
             "ticks": ""
            },
            "colorscale": [
             [
              0,
              "#0d0887"
             ],
             [
              0.1111111111111111,
              "#46039f"
             ],
             [
              0.2222222222222222,
              "#7201a8"
             ],
             [
              0.3333333333333333,
              "#9c179e"
             ],
             [
              0.4444444444444444,
              "#bd3786"
             ],
             [
              0.5555555555555556,
              "#d8576b"
             ],
             [
              0.6666666666666666,
              "#ed7953"
             ],
             [
              0.7777777777777778,
              "#fb9f3a"
             ],
             [
              0.8888888888888888,
              "#fdca26"
             ],
             [
              1,
              "#f0f921"
             ]
            ],
            "type": "histogram2d"
           }
          ],
          "histogram2dcontour": [
           {
            "colorbar": {
             "outlinewidth": 0,
             "ticks": ""
            },
            "colorscale": [
             [
              0,
              "#0d0887"
             ],
             [
              0.1111111111111111,
              "#46039f"
             ],
             [
              0.2222222222222222,
              "#7201a8"
             ],
             [
              0.3333333333333333,
              "#9c179e"
             ],
             [
              0.4444444444444444,
              "#bd3786"
             ],
             [
              0.5555555555555556,
              "#d8576b"
             ],
             [
              0.6666666666666666,
              "#ed7953"
             ],
             [
              0.7777777777777778,
              "#fb9f3a"
             ],
             [
              0.8888888888888888,
              "#fdca26"
             ],
             [
              1,
              "#f0f921"
             ]
            ],
            "type": "histogram2dcontour"
           }
          ],
          "mesh3d": [
           {
            "colorbar": {
             "outlinewidth": 0,
             "ticks": ""
            },
            "type": "mesh3d"
           }
          ],
          "parcoords": [
           {
            "line": {
             "colorbar": {
              "outlinewidth": 0,
              "ticks": ""
             }
            },
            "type": "parcoords"
           }
          ],
          "pie": [
           {
            "automargin": true,
            "type": "pie"
           }
          ],
          "scatter": [
           {
            "fillpattern": {
             "fillmode": "overlay",
             "size": 10,
             "solidity": 0.2
            },
            "type": "scatter"
           }
          ],
          "scatter3d": [
           {
            "line": {
             "colorbar": {
              "outlinewidth": 0,
              "ticks": ""
             }
            },
            "marker": {
             "colorbar": {
              "outlinewidth": 0,
              "ticks": ""
             }
            },
            "type": "scatter3d"
           }
          ],
          "scattercarpet": [
           {
            "marker": {
             "colorbar": {
              "outlinewidth": 0,
              "ticks": ""
             }
            },
            "type": "scattercarpet"
           }
          ],
          "scattergeo": [
           {
            "marker": {
             "colorbar": {
              "outlinewidth": 0,
              "ticks": ""
             }
            },
            "type": "scattergeo"
           }
          ],
          "scattergl": [
           {
            "marker": {
             "colorbar": {
              "outlinewidth": 0,
              "ticks": ""
             }
            },
            "type": "scattergl"
           }
          ],
          "scattermapbox": [
           {
            "marker": {
             "colorbar": {
              "outlinewidth": 0,
              "ticks": ""
             }
            },
            "type": "scattermapbox"
           }
          ],
          "scatterpolar": [
           {
            "marker": {
             "colorbar": {
              "outlinewidth": 0,
              "ticks": ""
             }
            },
            "type": "scatterpolar"
           }
          ],
          "scatterpolargl": [
           {
            "marker": {
             "colorbar": {
              "outlinewidth": 0,
              "ticks": ""
             }
            },
            "type": "scatterpolargl"
           }
          ],
          "scatterternary": [
           {
            "marker": {
             "colorbar": {
              "outlinewidth": 0,
              "ticks": ""
             }
            },
            "type": "scatterternary"
           }
          ],
          "surface": [
           {
            "colorbar": {
             "outlinewidth": 0,
             "ticks": ""
            },
            "colorscale": [
             [
              0,
              "#0d0887"
             ],
             [
              0.1111111111111111,
              "#46039f"
             ],
             [
              0.2222222222222222,
              "#7201a8"
             ],
             [
              0.3333333333333333,
              "#9c179e"
             ],
             [
              0.4444444444444444,
              "#bd3786"
             ],
             [
              0.5555555555555556,
              "#d8576b"
             ],
             [
              0.6666666666666666,
              "#ed7953"
             ],
             [
              0.7777777777777778,
              "#fb9f3a"
             ],
             [
              0.8888888888888888,
              "#fdca26"
             ],
             [
              1,
              "#f0f921"
             ]
            ],
            "type": "surface"
           }
          ],
          "table": [
           {
            "cells": {
             "fill": {
              "color": "#EBF0F8"
             },
             "line": {
              "color": "white"
             }
            },
            "header": {
             "fill": {
              "color": "#C8D4E3"
             },
             "line": {
              "color": "white"
             }
            },
            "type": "table"
           }
          ]
         },
         "layout": {
          "annotationdefaults": {
           "arrowcolor": "#2a3f5f",
           "arrowhead": 0,
           "arrowwidth": 1
          },
          "autotypenumbers": "strict",
          "coloraxis": {
           "colorbar": {
            "outlinewidth": 0,
            "ticks": ""
           }
          },
          "colorscale": {
           "diverging": [
            [
             0,
             "#8e0152"
            ],
            [
             0.1,
             "#c51b7d"
            ],
            [
             0.2,
             "#de77ae"
            ],
            [
             0.3,
             "#f1b6da"
            ],
            [
             0.4,
             "#fde0ef"
            ],
            [
             0.5,
             "#f7f7f7"
            ],
            [
             0.6,
             "#e6f5d0"
            ],
            [
             0.7,
             "#b8e186"
            ],
            [
             0.8,
             "#7fbc41"
            ],
            [
             0.9,
             "#4d9221"
            ],
            [
             1,
             "#276419"
            ]
           ],
           "sequential": [
            [
             0,
             "#0d0887"
            ],
            [
             0.1111111111111111,
             "#46039f"
            ],
            [
             0.2222222222222222,
             "#7201a8"
            ],
            [
             0.3333333333333333,
             "#9c179e"
            ],
            [
             0.4444444444444444,
             "#bd3786"
            ],
            [
             0.5555555555555556,
             "#d8576b"
            ],
            [
             0.6666666666666666,
             "#ed7953"
            ],
            [
             0.7777777777777778,
             "#fb9f3a"
            ],
            [
             0.8888888888888888,
             "#fdca26"
            ],
            [
             1,
             "#f0f921"
            ]
           ],
           "sequentialminus": [
            [
             0,
             "#0d0887"
            ],
            [
             0.1111111111111111,
             "#46039f"
            ],
            [
             0.2222222222222222,
             "#7201a8"
            ],
            [
             0.3333333333333333,
             "#9c179e"
            ],
            [
             0.4444444444444444,
             "#bd3786"
            ],
            [
             0.5555555555555556,
             "#d8576b"
            ],
            [
             0.6666666666666666,
             "#ed7953"
            ],
            [
             0.7777777777777778,
             "#fb9f3a"
            ],
            [
             0.8888888888888888,
             "#fdca26"
            ],
            [
             1,
             "#f0f921"
            ]
           ]
          },
          "colorway": [
           "#636efa",
           "#EF553B",
           "#00cc96",
           "#ab63fa",
           "#FFA15A",
           "#19d3f3",
           "#FF6692",
           "#B6E880",
           "#FF97FF",
           "#FECB52"
          ],
          "font": {
           "color": "#2a3f5f"
          },
          "geo": {
           "bgcolor": "white",
           "lakecolor": "white",
           "landcolor": "#E5ECF6",
           "showlakes": true,
           "showland": true,
           "subunitcolor": "white"
          },
          "hoverlabel": {
           "align": "left"
          },
          "hovermode": "closest",
          "mapbox": {
           "style": "light"
          },
          "paper_bgcolor": "white",
          "plot_bgcolor": "#E5ECF6",
          "polar": {
           "angularaxis": {
            "gridcolor": "white",
            "linecolor": "white",
            "ticks": ""
           },
           "bgcolor": "#E5ECF6",
           "radialaxis": {
            "gridcolor": "white",
            "linecolor": "white",
            "ticks": ""
           }
          },
          "scene": {
           "xaxis": {
            "backgroundcolor": "#E5ECF6",
            "gridcolor": "white",
            "gridwidth": 2,
            "linecolor": "white",
            "showbackground": true,
            "ticks": "",
            "zerolinecolor": "white"
           },
           "yaxis": {
            "backgroundcolor": "#E5ECF6",
            "gridcolor": "white",
            "gridwidth": 2,
            "linecolor": "white",
            "showbackground": true,
            "ticks": "",
            "zerolinecolor": "white"
           },
           "zaxis": {
            "backgroundcolor": "#E5ECF6",
            "gridcolor": "white",
            "gridwidth": 2,
            "linecolor": "white",
            "showbackground": true,
            "ticks": "",
            "zerolinecolor": "white"
           }
          },
          "shapedefaults": {
           "line": {
            "color": "#2a3f5f"
           }
          },
          "ternary": {
           "aaxis": {
            "gridcolor": "white",
            "linecolor": "white",
            "ticks": ""
           },
           "baxis": {
            "gridcolor": "white",
            "linecolor": "white",
            "ticks": ""
           },
           "bgcolor": "#E5ECF6",
           "caxis": {
            "gridcolor": "white",
            "linecolor": "white",
            "ticks": ""
           }
          },
          "title": {
           "x": 0.05
          },
          "xaxis": {
           "automargin": true,
           "gridcolor": "white",
           "linecolor": "white",
           "ticks": "",
           "title": {
            "standoff": 15
           },
           "zerolinecolor": "white",
           "zerolinewidth": 2
          },
          "yaxis": {
           "automargin": true,
           "gridcolor": "white",
           "linecolor": "white",
           "ticks": "",
           "title": {
            "standoff": 15
           },
           "zerolinecolor": "white",
           "zerolinewidth": 2
          }
         }
        }
       }
      }
     },
     "metadata": {},
     "output_type": "display_data"
    }
   ],
   "source": [
    "# import plotly\n",
    "import plotly.graph_objects as pg\n",
    "import numpy as np\n",
    "\n",
    "# define data\n",
    "days=[110,120,130,140,150,160,170,180,190,200]\n",
    "price=np.random.randint(1,100,10)\n",
    "\n",
    "# create a line plot\n",
    "fig=pg.Figure(data=pg.Scatter(x=days,y=price))\n",
    "fig.show()"
   ]
  },
  {
   "cell_type": "markdown",
   "metadata": {},
   "source": [
    "2."
   ]
  },
  {
   "cell_type": "code",
   "execution_count": null,
   "metadata": {},
   "outputs": [
    {
     "data": {
      "application/vnd.plotly.v1+json": {
       "config": {
        "plotlyServerURL": "https://plot.ly"
       },
       "data": [
        {
         "type": "scatter",
         "x": [
          110,
          120,
          130,
          140,
          150,
          160,
          170,
          180,
          190,
          200
         ],
         "y": [
          367,
          149,
          236,
          333,
          310,
          1,
          285,
          477,
          159,
          300
         ]
        }
       ],
       "layout": {
        "showlegend": true,
        "template": {
         "data": {
          "bar": [
           {
            "error_x": {
             "color": "#2a3f5f"
            },
            "error_y": {
             "color": "#2a3f5f"
            },
            "marker": {
             "line": {
              "color": "#E5ECF6",
              "width": 0.5
             },
             "pattern": {
              "fillmode": "overlay",
              "size": 10,
              "solidity": 0.2
             }
            },
            "type": "bar"
           }
          ],
          "barpolar": [
           {
            "marker": {
             "line": {
              "color": "#E5ECF6",
              "width": 0.5
             },
             "pattern": {
              "fillmode": "overlay",
              "size": 10,
              "solidity": 0.2
             }
            },
            "type": "barpolar"
           }
          ],
          "carpet": [
           {
            "aaxis": {
             "endlinecolor": "#2a3f5f",
             "gridcolor": "white",
             "linecolor": "white",
             "minorgridcolor": "white",
             "startlinecolor": "#2a3f5f"
            },
            "baxis": {
             "endlinecolor": "#2a3f5f",
             "gridcolor": "white",
             "linecolor": "white",
             "minorgridcolor": "white",
             "startlinecolor": "#2a3f5f"
            },
            "type": "carpet"
           }
          ],
          "choropleth": [
           {
            "colorbar": {
             "outlinewidth": 0,
             "ticks": ""
            },
            "type": "choropleth"
           }
          ],
          "contour": [
           {
            "colorbar": {
             "outlinewidth": 0,
             "ticks": ""
            },
            "colorscale": [
             [
              0,
              "#0d0887"
             ],
             [
              0.1111111111111111,
              "#46039f"
             ],
             [
              0.2222222222222222,
              "#7201a8"
             ],
             [
              0.3333333333333333,
              "#9c179e"
             ],
             [
              0.4444444444444444,
              "#bd3786"
             ],
             [
              0.5555555555555556,
              "#d8576b"
             ],
             [
              0.6666666666666666,
              "#ed7953"
             ],
             [
              0.7777777777777778,
              "#fb9f3a"
             ],
             [
              0.8888888888888888,
              "#fdca26"
             ],
             [
              1,
              "#f0f921"
             ]
            ],
            "type": "contour"
           }
          ],
          "contourcarpet": [
           {
            "colorbar": {
             "outlinewidth": 0,
             "ticks": ""
            },
            "type": "contourcarpet"
           }
          ],
          "heatmap": [
           {
            "colorbar": {
             "outlinewidth": 0,
             "ticks": ""
            },
            "colorscale": [
             [
              0,
              "#0d0887"
             ],
             [
              0.1111111111111111,
              "#46039f"
             ],
             [
              0.2222222222222222,
              "#7201a8"
             ],
             [
              0.3333333333333333,
              "#9c179e"
             ],
             [
              0.4444444444444444,
              "#bd3786"
             ],
             [
              0.5555555555555556,
              "#d8576b"
             ],
             [
              0.6666666666666666,
              "#ed7953"
             ],
             [
              0.7777777777777778,
              "#fb9f3a"
             ],
             [
              0.8888888888888888,
              "#fdca26"
             ],
             [
              1,
              "#f0f921"
             ]
            ],
            "type": "heatmap"
           }
          ],
          "heatmapgl": [
           {
            "colorbar": {
             "outlinewidth": 0,
             "ticks": ""
            },
            "colorscale": [
             [
              0,
              "#0d0887"
             ],
             [
              0.1111111111111111,
              "#46039f"
             ],
             [
              0.2222222222222222,
              "#7201a8"
             ],
             [
              0.3333333333333333,
              "#9c179e"
             ],
             [
              0.4444444444444444,
              "#bd3786"
             ],
             [
              0.5555555555555556,
              "#d8576b"
             ],
             [
              0.6666666666666666,
              "#ed7953"
             ],
             [
              0.7777777777777778,
              "#fb9f3a"
             ],
             [
              0.8888888888888888,
              "#fdca26"
             ],
             [
              1,
              "#f0f921"
             ]
            ],
            "type": "heatmapgl"
           }
          ],
          "histogram": [
           {
            "marker": {
             "pattern": {
              "fillmode": "overlay",
              "size": 10,
              "solidity": 0.2
             }
            },
            "type": "histogram"
           }
          ],
          "histogram2d": [
           {
            "colorbar": {
             "outlinewidth": 0,
             "ticks": ""
            },
            "colorscale": [
             [
              0,
              "#0d0887"
             ],
             [
              0.1111111111111111,
              "#46039f"
             ],
             [
              0.2222222222222222,
              "#7201a8"
             ],
             [
              0.3333333333333333,
              "#9c179e"
             ],
             [
              0.4444444444444444,
              "#bd3786"
             ],
             [
              0.5555555555555556,
              "#d8576b"
             ],
             [
              0.6666666666666666,
              "#ed7953"
             ],
             [
              0.7777777777777778,
              "#fb9f3a"
             ],
             [
              0.8888888888888888,
              "#fdca26"
             ],
             [
              1,
              "#f0f921"
             ]
            ],
            "type": "histogram2d"
           }
          ],
          "histogram2dcontour": [
           {
            "colorbar": {
             "outlinewidth": 0,
             "ticks": ""
            },
            "colorscale": [
             [
              0,
              "#0d0887"
             ],
             [
              0.1111111111111111,
              "#46039f"
             ],
             [
              0.2222222222222222,
              "#7201a8"
             ],
             [
              0.3333333333333333,
              "#9c179e"
             ],
             [
              0.4444444444444444,
              "#bd3786"
             ],
             [
              0.5555555555555556,
              "#d8576b"
             ],
             [
              0.6666666666666666,
              "#ed7953"
             ],
             [
              0.7777777777777778,
              "#fb9f3a"
             ],
             [
              0.8888888888888888,
              "#fdca26"
             ],
             [
              1,
              "#f0f921"
             ]
            ],
            "type": "histogram2dcontour"
           }
          ],
          "mesh3d": [
           {
            "colorbar": {
             "outlinewidth": 0,
             "ticks": ""
            },
            "type": "mesh3d"
           }
          ],
          "parcoords": [
           {
            "line": {
             "colorbar": {
              "outlinewidth": 0,
              "ticks": ""
             }
            },
            "type": "parcoords"
           }
          ],
          "pie": [
           {
            "automargin": true,
            "type": "pie"
           }
          ],
          "scatter": [
           {
            "fillpattern": {
             "fillmode": "overlay",
             "size": 10,
             "solidity": 0.2
            },
            "type": "scatter"
           }
          ],
          "scatter3d": [
           {
            "line": {
             "colorbar": {
              "outlinewidth": 0,
              "ticks": ""
             }
            },
            "marker": {
             "colorbar": {
              "outlinewidth": 0,
              "ticks": ""
             }
            },
            "type": "scatter3d"
           }
          ],
          "scattercarpet": [
           {
            "marker": {
             "colorbar": {
              "outlinewidth": 0,
              "ticks": ""
             }
            },
            "type": "scattercarpet"
           }
          ],
          "scattergeo": [
           {
            "marker": {
             "colorbar": {
              "outlinewidth": 0,
              "ticks": ""
             }
            },
            "type": "scattergeo"
           }
          ],
          "scattergl": [
           {
            "marker": {
             "colorbar": {
              "outlinewidth": 0,
              "ticks": ""
             }
            },
            "type": "scattergl"
           }
          ],
          "scattermapbox": [
           {
            "marker": {
             "colorbar": {
              "outlinewidth": 0,
              "ticks": ""
             }
            },
            "type": "scattermapbox"
           }
          ],
          "scatterpolar": [
           {
            "marker": {
             "colorbar": {
              "outlinewidth": 0,
              "ticks": ""
             }
            },
            "type": "scatterpolar"
           }
          ],
          "scatterpolargl": [
           {
            "marker": {
             "colorbar": {
              "outlinewidth": 0,
              "ticks": ""
             }
            },
            "type": "scatterpolargl"
           }
          ],
          "scatterternary": [
           {
            "marker": {
             "colorbar": {
              "outlinewidth": 0,
              "ticks": ""
             }
            },
            "type": "scatterternary"
           }
          ],
          "surface": [
           {
            "colorbar": {
             "outlinewidth": 0,
             "ticks": ""
            },
            "colorscale": [
             [
              0,
              "#0d0887"
             ],
             [
              0.1111111111111111,
              "#46039f"
             ],
             [
              0.2222222222222222,
              "#7201a8"
             ],
             [
              0.3333333333333333,
              "#9c179e"
             ],
             [
              0.4444444444444444,
              "#bd3786"
             ],
             [
              0.5555555555555556,
              "#d8576b"
             ],
             [
              0.6666666666666666,
              "#ed7953"
             ],
             [
              0.7777777777777778,
              "#fb9f3a"
             ],
             [
              0.8888888888888888,
              "#fdca26"
             ],
             [
              1,
              "#f0f921"
             ]
            ],
            "type": "surface"
           }
          ],
          "table": [
           {
            "cells": {
             "fill": {
              "color": "#EBF0F8"
             },
             "line": {
              "color": "white"
             }
            },
            "header": {
             "fill": {
              "color": "#C8D4E3"
             },
             "line": {
              "color": "white"
             }
            },
            "type": "table"
           }
          ]
         },
         "layout": {
          "annotationdefaults": {
           "arrowcolor": "#2a3f5f",
           "arrowhead": 0,
           "arrowwidth": 1
          },
          "autotypenumbers": "strict",
          "coloraxis": {
           "colorbar": {
            "outlinewidth": 0,
            "ticks": ""
           }
          },
          "colorscale": {
           "diverging": [
            [
             0,
             "#8e0152"
            ],
            [
             0.1,
             "#c51b7d"
            ],
            [
             0.2,
             "#de77ae"
            ],
            [
             0.3,
             "#f1b6da"
            ],
            [
             0.4,
             "#fde0ef"
            ],
            [
             0.5,
             "#f7f7f7"
            ],
            [
             0.6,
             "#e6f5d0"
            ],
            [
             0.7,
             "#b8e186"
            ],
            [
             0.8,
             "#7fbc41"
            ],
            [
             0.9,
             "#4d9221"
            ],
            [
             1,
             "#276419"
            ]
           ],
           "sequential": [
            [
             0,
             "#0d0887"
            ],
            [
             0.1111111111111111,
             "#46039f"
            ],
            [
             0.2222222222222222,
             "#7201a8"
            ],
            [
             0.3333333333333333,
             "#9c179e"
            ],
            [
             0.4444444444444444,
             "#bd3786"
            ],
            [
             0.5555555555555556,
             "#d8576b"
            ],
            [
             0.6666666666666666,
             "#ed7953"
            ],
            [
             0.7777777777777778,
             "#fb9f3a"
            ],
            [
             0.8888888888888888,
             "#fdca26"
            ],
            [
             1,
             "#f0f921"
            ]
           ],
           "sequentialminus": [
            [
             0,
             "#0d0887"
            ],
            [
             0.1111111111111111,
             "#46039f"
            ],
            [
             0.2222222222222222,
             "#7201a8"
            ],
            [
             0.3333333333333333,
             "#9c179e"
            ],
            [
             0.4444444444444444,
             "#bd3786"
            ],
            [
             0.5555555555555556,
             "#d8576b"
            ],
            [
             0.6666666666666666,
             "#ed7953"
            ],
            [
             0.7777777777777778,
             "#fb9f3a"
            ],
            [
             0.8888888888888888,
             "#fdca26"
            ],
            [
             1,
             "#f0f921"
            ]
           ]
          },
          "colorway": [
           "#636efa",
           "#EF553B",
           "#00cc96",
           "#ab63fa",
           "#FFA15A",
           "#19d3f3",
           "#FF6692",
           "#B6E880",
           "#FF97FF",
           "#FECB52"
          ],
          "font": {
           "color": "#2a3f5f"
          },
          "geo": {
           "bgcolor": "white",
           "lakecolor": "white",
           "landcolor": "#E5ECF6",
           "showlakes": true,
           "showland": true,
           "subunitcolor": "white"
          },
          "hoverlabel": {
           "align": "left"
          },
          "hovermode": "closest",
          "mapbox": {
           "style": "light"
          },
          "paper_bgcolor": "white",
          "plot_bgcolor": "#E5ECF6",
          "polar": {
           "angularaxis": {
            "gridcolor": "white",
            "linecolor": "white",
            "ticks": ""
           },
           "bgcolor": "#E5ECF6",
           "radialaxis": {
            "gridcolor": "white",
            "linecolor": "white",
            "ticks": ""
           }
          },
          "scene": {
           "xaxis": {
            "backgroundcolor": "#E5ECF6",
            "gridcolor": "white",
            "gridwidth": 2,
            "linecolor": "white",
            "showbackground": true,
            "ticks": "",
            "zerolinecolor": "white"
           },
           "yaxis": {
            "backgroundcolor": "#E5ECF6",
            "gridcolor": "white",
            "gridwidth": 2,
            "linecolor": "white",
            "showbackground": true,
            "ticks": "",
            "zerolinecolor": "white"
           },
           "zaxis": {
            "backgroundcolor": "#E5ECF6",
            "gridcolor": "white",
            "gridwidth": 2,
            "linecolor": "white",
            "showbackground": true,
            "ticks": "",
            "zerolinecolor": "white"
           }
          },
          "shapedefaults": {
           "line": {
            "color": "#2a3f5f"
           }
          },
          "ternary": {
           "aaxis": {
            "gridcolor": "white",
            "linecolor": "white",
            "ticks": ""
           },
           "baxis": {
            "gridcolor": "white",
            "linecolor": "white",
            "ticks": ""
           },
           "bgcolor": "#E5ECF6",
           "caxis": {
            "gridcolor": "white",
            "linecolor": "white",
            "ticks": ""
           }
          },
          "title": {
           "x": 0.05
          },
          "xaxis": {
           "automargin": true,
           "gridcolor": "white",
           "linecolor": "white",
           "ticks": "",
           "title": {
            "standoff": 15
           },
           "zerolinecolor": "white",
           "zerolinewidth": 2
          },
          "yaxis": {
           "automargin": true,
           "gridcolor": "white",
           "linecolor": "white",
           "ticks": "",
           "title": {
            "standoff": 15
           },
           "zerolinecolor": "white",
           "zerolinewidth": 2
          }
         }
        },
        "title": {
         "text": "Simple Line Plot"
        },
        "xaxis": {
         "title": {
          "text": "X-axis"
         }
        },
        "yaxis": {
         "title": {
          "text": "Y-axis"
         }
        }
       }
      }
     },
     "metadata": {},
     "output_type": "display_data"
    }
   ],
   "source": [
    "x=[110,120,130,140,150,160,170,180,190,200]\n",
    "y=np.random.randint(0, 500, 10)\n",
    "\n",
    "fig=pg.Figure(data=pg.Scatter(x=x,y=y))\n",
    "fig.update_layout(\n",
    "    title='Simple Line Plot',\n",
    "    xaxis_title='X-axis',\n",
    "    yaxis_title='Y-axis',\n",
    "    showlegend=True\n",
    ")\n",
    "fig.show()"
   ]
  },
  {
   "cell_type": "markdown",
   "metadata": {},
   "source": [
    "3."
   ]
  },
  {
   "cell_type": "code",
   "execution_count": 3,
   "metadata": {},
   "outputs": [
    {
     "data": {
      "application/vnd.plotly.v1+json": {
       "config": {
        "plotlyServerURL": "https://plot.ly"
       },
       "data": [
        {
         "name": "sin(x)",
         "type": "scatter",
         "x": [
          0,
          0.10101010101010101,
          0.20202020202020202,
          0.30303030303030304,
          0.40404040404040403,
          0.5050505050505051,
          0.6060606060606061,
          0.7070707070707071,
          0.8080808080808081,
          0.9090909090909091,
          1.0101010101010102,
          1.1111111111111112,
          1.2121212121212122,
          1.3131313131313131,
          1.4141414141414141,
          1.5151515151515151,
          1.6161616161616161,
          1.7171717171717171,
          1.8181818181818181,
          1.9191919191919191,
          2.0202020202020203,
          2.121212121212121,
          2.2222222222222223,
          2.323232323232323,
          2.4242424242424243,
          2.525252525252525,
          2.6262626262626263,
          2.727272727272727,
          2.8282828282828283,
          2.929292929292929,
          3.0303030303030303,
          3.131313131313131,
          3.2323232323232323,
          3.3333333333333335,
          3.4343434343434343,
          3.5353535353535355,
          3.6363636363636362,
          3.7373737373737375,
          3.8383838383838382,
          3.9393939393939394,
          4.040404040404041,
          4.141414141414141,
          4.242424242424242,
          4.343434343434343,
          4.444444444444445,
          4.545454545454545,
          4.646464646464646,
          4.747474747474747,
          4.848484848484849,
          4.94949494949495,
          5.05050505050505,
          5.151515151515151,
          5.252525252525253,
          5.353535353535354,
          5.454545454545454,
          5.555555555555555,
          5.656565656565657,
          5.757575757575758,
          5.858585858585858,
          5.959595959595959,
          6.0606060606060606,
          6.161616161616162,
          6.262626262626262,
          6.363636363636363,
          6.4646464646464645,
          6.565656565656566,
          6.666666666666667,
          6.767676767676767,
          6.8686868686868685,
          6.96969696969697,
          7.070707070707071,
          7.171717171717171,
          7.2727272727272725,
          7.373737373737374,
          7.474747474747475,
          7.575757575757575,
          7.6767676767676765,
          7.777777777777778,
          7.878787878787879,
          7.979797979797979,
          8.080808080808081,
          8.181818181818182,
          8.282828282828282,
          8.383838383838384,
          8.484848484848484,
          8.585858585858587,
          8.686868686868687,
          8.787878787878787,
          8.88888888888889,
          8.98989898989899,
          9.09090909090909,
          9.191919191919192,
          9.292929292929292,
          9.393939393939394,
          9.494949494949495,
          9.595959595959595,
          9.696969696969697,
          9.797979797979798,
          9.8989898989899,
          10
         ],
         "y": [
          0,
          0.1008384202581046,
          0.2006488565226854,
          0.2984138044476411,
          0.3931366121483298,
          0.48385164043793466,
          0.5696341069089657,
          0.6496095135057065,
          0.7229625614794605,
          0.7889454628442574,
          0.8468855636029834,
          0.8961922010299563,
          0.9363627251042848,
          0.9669876227092996,
          0.9877546923600838,
          0.9984522269003895,
          0.9989711717233568,
          0.9893062365143401,
          0.9695559491823237,
          0.9399216514301312,
          0.9007054462029555,
          0.8523071179396752,
          0.7952200570230491,
          0.7300262299764464,
          0.6573902466827755,
          0.5780525851065732,
          0.4928220425889235,
          0.40256749066949654,
          0.30820901749007684,
          0.2107085480771929,
          0.11106003812412972,
          0.010279341240534697,
          -0.09060614703340773,
          -0.19056796287548539,
          -0.28858705872043244,
          -0.38366419180611233,
          -0.47483011082223947,
          -0.5611554368152017,
          -0.6417601376193878,
          -0.7158224992291902,
          -0.7825875026542022,
          -0.8413745208608701,
          -0.8915842573351402,
          -0.9327048555318336,
          -0.9643171169287782,
          -0.9860987744909296,
          -0.9978277779792126,
          -0.9993845576124357,
          -0.9907532430056771,
          -0.9720218249588334,
          -0.9433812584459996,
          -0.9051235159501367,
          -0.8576386109880517,
          -0.8014106221689696,
          -0.7370127583189133,
          -0.6651015149788224,
          -0.586409981847235,
          -0.5017403693939113,
          -0.4119558308308628,
          -0.31797166281061867,
          -0.22074597455506334,
          -0.12126992053716677,
          -0.020557596287260064,
          0.08036429967028173,
          0.18046693235991093,
          0.27872981867755725,
          0.37415123057121996,
          0.4657584070256517,
          0.5526174707464059,
          0.6338429484489058,
          0.7086067976992182,
          0.7761468482835805,
          0.8357745720522589,
          0.8868821020290788,
          0.9289484292312513,
          0.9615447140268235,
          0.9843386578838236,
          0.9970978909438748,
          0.9996923408861117,
          0.9920955589323228,
          0.9743849894755358,
          0.9467411805833543,
          0.9094459434244625,
          0.8628794793817836,
          0.8075165041395626,
          0.7439214082568444,
          0.6727425035622647,
          0.5947054140244975,
          0.510605678474283,
          0.4213006405886069,
          0.32770070881349983,
          0.23076007532505177,
          0.13146698864295842,
          0.03083367906114098,
          -0.07011396040064677,
          -0.1703468323280965,
          -0.26884312591038406,
          -0.3645987336558887,
          -0.45663748763377376,
          -0.5440211108893698
         ]
        },
        {
         "line": {
          "color": "red"
         },
         "name": "cos(x)",
         "type": "scatter",
         "x": [
          0,
          0.10101010101010101,
          0.20202020202020202,
          0.30303030303030304,
          0.40404040404040403,
          0.5050505050505051,
          0.6060606060606061,
          0.7070707070707071,
          0.8080808080808081,
          0.9090909090909091,
          1.0101010101010102,
          1.1111111111111112,
          1.2121212121212122,
          1.3131313131313131,
          1.4141414141414141,
          1.5151515151515151,
          1.6161616161616161,
          1.7171717171717171,
          1.8181818181818181,
          1.9191919191919191,
          2.0202020202020203,
          2.121212121212121,
          2.2222222222222223,
          2.323232323232323,
          2.4242424242424243,
          2.525252525252525,
          2.6262626262626263,
          2.727272727272727,
          2.8282828282828283,
          2.929292929292929,
          3.0303030303030303,
          3.131313131313131,
          3.2323232323232323,
          3.3333333333333335,
          3.4343434343434343,
          3.5353535353535355,
          3.6363636363636362,
          3.7373737373737375,
          3.8383838383838382,
          3.9393939393939394,
          4.040404040404041,
          4.141414141414141,
          4.242424242424242,
          4.343434343434343,
          4.444444444444445,
          4.545454545454545,
          4.646464646464646,
          4.747474747474747,
          4.848484848484849,
          4.94949494949495,
          5.05050505050505,
          5.151515151515151,
          5.252525252525253,
          5.353535353535354,
          5.454545454545454,
          5.555555555555555,
          5.656565656565657,
          5.757575757575758,
          5.858585858585858,
          5.959595959595959,
          6.0606060606060606,
          6.161616161616162,
          6.262626262626262,
          6.363636363636363,
          6.4646464646464645,
          6.565656565656566,
          6.666666666666667,
          6.767676767676767,
          6.8686868686868685,
          6.96969696969697,
          7.070707070707071,
          7.171717171717171,
          7.2727272727272725,
          7.373737373737374,
          7.474747474747475,
          7.575757575757575,
          7.6767676767676765,
          7.777777777777778,
          7.878787878787879,
          7.979797979797979,
          8.080808080808081,
          8.181818181818182,
          8.282828282828282,
          8.383838383838384,
          8.484848484848484,
          8.585858585858587,
          8.686868686868687,
          8.787878787878787,
          8.88888888888889,
          8.98989898989899,
          9.09090909090909,
          9.191919191919192,
          9.292929292929292,
          9.393939393939394,
          9.494949494949495,
          9.595959595959595,
          9.696969696969697,
          9.797979797979798,
          9.8989898989899,
          10
         ],
         "y": [
          1,
          0.9949028158568303,
          0.9796632259996998,
          0.9544365884201449,
          0.9194800727522776,
          0.8751500385908233,
          0.82189840263017,
          0.7602680316591506,
          0.6908872083770674,
          0.6144632264484674,
          0.5317751800910392,
          0.4436660217022285,
          0.3510339684920502,
          0.25482334572604864,
          0.15601495992575853,
          0.05561610016580674,
          -0.04534973060188524,
          -0.1458532495141353,
          -0.24486988668507892,
          -0.3413902300489206,
          -0.43443031567828566,
          -0.5230416586748752,
          -0.6063209223738354,
          -0.6834191272904034,
          -0.7535503059294446,
          -0.815999515227557,
          -0.8701301249459654,
          -0.9153903077136357,
          -0.9513186645587279,
          -0.9775489285796396,
          -0.993813698804694,
          -0.9999471661761239,
          -0.9958868038686729,
          -0.981674004711079,
          -0.9574536592123347,
          -0.9234726784944765,
          -0.8800774771896732,
          -0.8277104419618857,
          -0.7669054216542901,
          -0.6982822850375598,
          -0.6225406016393301,
          -0.5404525100747903,
          -0.45285484658127084,
          -0.3606406140014481,
          -0.2647498781834829,
          -0.16616018460355267,
          -0.06587659290724678,
          0.03507856903860484,
          0.13567612713271912,
          0.23489055281917826,
          0.33171041770321597,
          0.42514870442477243,
          0.5142528686769626,
          0.5981145497935533,
          0.6758788309121296,
          0.7467529543114477,
          0.810014403075603,
          0.865018266697566,
          0.9112038155344026,
          0.9481002170917641,
          0.9753313358637337,
          0.9926195677967009,
          0.9997886702873213,
          0.9967655588645231,
          0.983581052239521,
          0.9603695581285238,
          0.9273677030509753,
          0.8849119200716687,
          0.8334350190781794,
          0.7734617745574747,
          0.7056035758515253,
          0.6305521944291881,
          0.5490727317130796,
          0.4619958193539013,
          0.3702091514654802,
          0.2746484351440477,
          0.17628785152548898,
          0.07613012462407193,
          -0.02480370080544784,
          -0.12548466817409182,
          -0.22488639862108173,
          -0.3219955542979381,
          -0.41582216870771727,
          -0.5054097387880672,
          -0.5898449758557073,
          -0.6682671160076287,
          -0.7398766950653171,
          -0.80394369860703,
          -0.859815004003662,
          -0.9069210385913591,
          -0.9447815861050266,
          -0.973010682179788,
          -0.9913205490138658,
          -0.9995245290814802,
          -0.9975389879884077,
          -0.9853841670717991,
          -0.9631839770525324,
          -0.9311647348436916,
          -0.8896528563926016,
          -0.8390715290764524
         ]
        }
       ],
       "layout": {
        "annotations": [
         {
          "arrowhead": 2,
          "ax": 0,
          "ay": -40,
          "showarrow": true,
          "text": "Sine Wave",
          "x": 5,
          "y": 0
         },
         {
          "arrowhead": 2,
          "ax": 0,
          "ay": -40,
          "showarrow": true,
          "text": "Cosine Wave",
          "x": 5,
          "y": 0
         }
        ],
        "template": {
         "data": {
          "bar": [
           {
            "error_x": {
             "color": "#2a3f5f"
            },
            "error_y": {
             "color": "#2a3f5f"
            },
            "marker": {
             "line": {
              "color": "#E5ECF6",
              "width": 0.5
             },
             "pattern": {
              "fillmode": "overlay",
              "size": 10,
              "solidity": 0.2
             }
            },
            "type": "bar"
           }
          ],
          "barpolar": [
           {
            "marker": {
             "line": {
              "color": "#E5ECF6",
              "width": 0.5
             },
             "pattern": {
              "fillmode": "overlay",
              "size": 10,
              "solidity": 0.2
             }
            },
            "type": "barpolar"
           }
          ],
          "carpet": [
           {
            "aaxis": {
             "endlinecolor": "#2a3f5f",
             "gridcolor": "white",
             "linecolor": "white",
             "minorgridcolor": "white",
             "startlinecolor": "#2a3f5f"
            },
            "baxis": {
             "endlinecolor": "#2a3f5f",
             "gridcolor": "white",
             "linecolor": "white",
             "minorgridcolor": "white",
             "startlinecolor": "#2a3f5f"
            },
            "type": "carpet"
           }
          ],
          "choropleth": [
           {
            "colorbar": {
             "outlinewidth": 0,
             "ticks": ""
            },
            "type": "choropleth"
           }
          ],
          "contour": [
           {
            "colorbar": {
             "outlinewidth": 0,
             "ticks": ""
            },
            "colorscale": [
             [
              0,
              "#0d0887"
             ],
             [
              0.1111111111111111,
              "#46039f"
             ],
             [
              0.2222222222222222,
              "#7201a8"
             ],
             [
              0.3333333333333333,
              "#9c179e"
             ],
             [
              0.4444444444444444,
              "#bd3786"
             ],
             [
              0.5555555555555556,
              "#d8576b"
             ],
             [
              0.6666666666666666,
              "#ed7953"
             ],
             [
              0.7777777777777778,
              "#fb9f3a"
             ],
             [
              0.8888888888888888,
              "#fdca26"
             ],
             [
              1,
              "#f0f921"
             ]
            ],
            "type": "contour"
           }
          ],
          "contourcarpet": [
           {
            "colorbar": {
             "outlinewidth": 0,
             "ticks": ""
            },
            "type": "contourcarpet"
           }
          ],
          "heatmap": [
           {
            "colorbar": {
             "outlinewidth": 0,
             "ticks": ""
            },
            "colorscale": [
             [
              0,
              "#0d0887"
             ],
             [
              0.1111111111111111,
              "#46039f"
             ],
             [
              0.2222222222222222,
              "#7201a8"
             ],
             [
              0.3333333333333333,
              "#9c179e"
             ],
             [
              0.4444444444444444,
              "#bd3786"
             ],
             [
              0.5555555555555556,
              "#d8576b"
             ],
             [
              0.6666666666666666,
              "#ed7953"
             ],
             [
              0.7777777777777778,
              "#fb9f3a"
             ],
             [
              0.8888888888888888,
              "#fdca26"
             ],
             [
              1,
              "#f0f921"
             ]
            ],
            "type": "heatmap"
           }
          ],
          "heatmapgl": [
           {
            "colorbar": {
             "outlinewidth": 0,
             "ticks": ""
            },
            "colorscale": [
             [
              0,
              "#0d0887"
             ],
             [
              0.1111111111111111,
              "#46039f"
             ],
             [
              0.2222222222222222,
              "#7201a8"
             ],
             [
              0.3333333333333333,
              "#9c179e"
             ],
             [
              0.4444444444444444,
              "#bd3786"
             ],
             [
              0.5555555555555556,
              "#d8576b"
             ],
             [
              0.6666666666666666,
              "#ed7953"
             ],
             [
              0.7777777777777778,
              "#fb9f3a"
             ],
             [
              0.8888888888888888,
              "#fdca26"
             ],
             [
              1,
              "#f0f921"
             ]
            ],
            "type": "heatmapgl"
           }
          ],
          "histogram": [
           {
            "marker": {
             "pattern": {
              "fillmode": "overlay",
              "size": 10,
              "solidity": 0.2
             }
            },
            "type": "histogram"
           }
          ],
          "histogram2d": [
           {
            "colorbar": {
             "outlinewidth": 0,
             "ticks": ""
            },
            "colorscale": [
             [
              0,
              "#0d0887"
             ],
             [
              0.1111111111111111,
              "#46039f"
             ],
             [
              0.2222222222222222,
              "#7201a8"
             ],
             [
              0.3333333333333333,
              "#9c179e"
             ],
             [
              0.4444444444444444,
              "#bd3786"
             ],
             [
              0.5555555555555556,
              "#d8576b"
             ],
             [
              0.6666666666666666,
              "#ed7953"
             ],
             [
              0.7777777777777778,
              "#fb9f3a"
             ],
             [
              0.8888888888888888,
              "#fdca26"
             ],
             [
              1,
              "#f0f921"
             ]
            ],
            "type": "histogram2d"
           }
          ],
          "histogram2dcontour": [
           {
            "colorbar": {
             "outlinewidth": 0,
             "ticks": ""
            },
            "colorscale": [
             [
              0,
              "#0d0887"
             ],
             [
              0.1111111111111111,
              "#46039f"
             ],
             [
              0.2222222222222222,
              "#7201a8"
             ],
             [
              0.3333333333333333,
              "#9c179e"
             ],
             [
              0.4444444444444444,
              "#bd3786"
             ],
             [
              0.5555555555555556,
              "#d8576b"
             ],
             [
              0.6666666666666666,
              "#ed7953"
             ],
             [
              0.7777777777777778,
              "#fb9f3a"
             ],
             [
              0.8888888888888888,
              "#fdca26"
             ],
             [
              1,
              "#f0f921"
             ]
            ],
            "type": "histogram2dcontour"
           }
          ],
          "mesh3d": [
           {
            "colorbar": {
             "outlinewidth": 0,
             "ticks": ""
            },
            "type": "mesh3d"
           }
          ],
          "parcoords": [
           {
            "line": {
             "colorbar": {
              "outlinewidth": 0,
              "ticks": ""
             }
            },
            "type": "parcoords"
           }
          ],
          "pie": [
           {
            "automargin": true,
            "type": "pie"
           }
          ],
          "scatter": [
           {
            "fillpattern": {
             "fillmode": "overlay",
             "size": 10,
             "solidity": 0.2
            },
            "type": "scatter"
           }
          ],
          "scatter3d": [
           {
            "line": {
             "colorbar": {
              "outlinewidth": 0,
              "ticks": ""
             }
            },
            "marker": {
             "colorbar": {
              "outlinewidth": 0,
              "ticks": ""
             }
            },
            "type": "scatter3d"
           }
          ],
          "scattercarpet": [
           {
            "marker": {
             "colorbar": {
              "outlinewidth": 0,
              "ticks": ""
             }
            },
            "type": "scattercarpet"
           }
          ],
          "scattergeo": [
           {
            "marker": {
             "colorbar": {
              "outlinewidth": 0,
              "ticks": ""
             }
            },
            "type": "scattergeo"
           }
          ],
          "scattergl": [
           {
            "marker": {
             "colorbar": {
              "outlinewidth": 0,
              "ticks": ""
             }
            },
            "type": "scattergl"
           }
          ],
          "scattermapbox": [
           {
            "marker": {
             "colorbar": {
              "outlinewidth": 0,
              "ticks": ""
             }
            },
            "type": "scattermapbox"
           }
          ],
          "scatterpolar": [
           {
            "marker": {
             "colorbar": {
              "outlinewidth": 0,
              "ticks": ""
             }
            },
            "type": "scatterpolar"
           }
          ],
          "scatterpolargl": [
           {
            "marker": {
             "colorbar": {
              "outlinewidth": 0,
              "ticks": ""
             }
            },
            "type": "scatterpolargl"
           }
          ],
          "scatterternary": [
           {
            "marker": {
             "colorbar": {
              "outlinewidth": 0,
              "ticks": ""
             }
            },
            "type": "scatterternary"
           }
          ],
          "surface": [
           {
            "colorbar": {
             "outlinewidth": 0,
             "ticks": ""
            },
            "colorscale": [
             [
              0,
              "#0d0887"
             ],
             [
              0.1111111111111111,
              "#46039f"
             ],
             [
              0.2222222222222222,
              "#7201a8"
             ],
             [
              0.3333333333333333,
              "#9c179e"
             ],
             [
              0.4444444444444444,
              "#bd3786"
             ],
             [
              0.5555555555555556,
              "#d8576b"
             ],
             [
              0.6666666666666666,
              "#ed7953"
             ],
             [
              0.7777777777777778,
              "#fb9f3a"
             ],
             [
              0.8888888888888888,
              "#fdca26"
             ],
             [
              1,
              "#f0f921"
             ]
            ],
            "type": "surface"
           }
          ],
          "table": [
           {
            "cells": {
             "fill": {
              "color": "#EBF0F8"
             },
             "line": {
              "color": "white"
             }
            },
            "header": {
             "fill": {
              "color": "#C8D4E3"
             },
             "line": {
              "color": "white"
             }
            },
            "type": "table"
           }
          ]
         },
         "layout": {
          "annotationdefaults": {
           "arrowcolor": "#2a3f5f",
           "arrowhead": 0,
           "arrowwidth": 1
          },
          "autotypenumbers": "strict",
          "coloraxis": {
           "colorbar": {
            "outlinewidth": 0,
            "ticks": ""
           }
          },
          "colorscale": {
           "diverging": [
            [
             0,
             "#8e0152"
            ],
            [
             0.1,
             "#c51b7d"
            ],
            [
             0.2,
             "#de77ae"
            ],
            [
             0.3,
             "#f1b6da"
            ],
            [
             0.4,
             "#fde0ef"
            ],
            [
             0.5,
             "#f7f7f7"
            ],
            [
             0.6,
             "#e6f5d0"
            ],
            [
             0.7,
             "#b8e186"
            ],
            [
             0.8,
             "#7fbc41"
            ],
            [
             0.9,
             "#4d9221"
            ],
            [
             1,
             "#276419"
            ]
           ],
           "sequential": [
            [
             0,
             "#0d0887"
            ],
            [
             0.1111111111111111,
             "#46039f"
            ],
            [
             0.2222222222222222,
             "#7201a8"
            ],
            [
             0.3333333333333333,
             "#9c179e"
            ],
            [
             0.4444444444444444,
             "#bd3786"
            ],
            [
             0.5555555555555556,
             "#d8576b"
            ],
            [
             0.6666666666666666,
             "#ed7953"
            ],
            [
             0.7777777777777778,
             "#fb9f3a"
            ],
            [
             0.8888888888888888,
             "#fdca26"
            ],
            [
             1,
             "#f0f921"
            ]
           ],
           "sequentialminus": [
            [
             0,
             "#0d0887"
            ],
            [
             0.1111111111111111,
             "#46039f"
            ],
            [
             0.2222222222222222,
             "#7201a8"
            ],
            [
             0.3333333333333333,
             "#9c179e"
            ],
            [
             0.4444444444444444,
             "#bd3786"
            ],
            [
             0.5555555555555556,
             "#d8576b"
            ],
            [
             0.6666666666666666,
             "#ed7953"
            ],
            [
             0.7777777777777778,
             "#fb9f3a"
            ],
            [
             0.8888888888888888,
             "#fdca26"
            ],
            [
             1,
             "#f0f921"
            ]
           ]
          },
          "colorway": [
           "#636efa",
           "#EF553B",
           "#00cc96",
           "#ab63fa",
           "#FFA15A",
           "#19d3f3",
           "#FF6692",
           "#B6E880",
           "#FF97FF",
           "#FECB52"
          ],
          "font": {
           "color": "#2a3f5f"
          },
          "geo": {
           "bgcolor": "white",
           "lakecolor": "white",
           "landcolor": "#E5ECF6",
           "showlakes": true,
           "showland": true,
           "subunitcolor": "white"
          },
          "hoverlabel": {
           "align": "left"
          },
          "hovermode": "closest",
          "mapbox": {
           "style": "light"
          },
          "paper_bgcolor": "white",
          "plot_bgcolor": "#E5ECF6",
          "polar": {
           "angularaxis": {
            "gridcolor": "white",
            "linecolor": "white",
            "ticks": ""
           },
           "bgcolor": "#E5ECF6",
           "radialaxis": {
            "gridcolor": "white",
            "linecolor": "white",
            "ticks": ""
           }
          },
          "scene": {
           "xaxis": {
            "backgroundcolor": "#E5ECF6",
            "gridcolor": "white",
            "gridwidth": 2,
            "linecolor": "white",
            "showbackground": true,
            "ticks": "",
            "zerolinecolor": "white"
           },
           "yaxis": {
            "backgroundcolor": "#E5ECF6",
            "gridcolor": "white",
            "gridwidth": 2,
            "linecolor": "white",
            "showbackground": true,
            "ticks": "",
            "zerolinecolor": "white"
           },
           "zaxis": {
            "backgroundcolor": "#E5ECF6",
            "gridcolor": "white",
            "gridwidth": 2,
            "linecolor": "white",
            "showbackground": true,
            "ticks": "",
            "zerolinecolor": "white"
           }
          },
          "shapedefaults": {
           "line": {
            "color": "#2a3f5f"
           }
          },
          "ternary": {
           "aaxis": {
            "gridcolor": "white",
            "linecolor": "white",
            "ticks": ""
           },
           "baxis": {
            "gridcolor": "white",
            "linecolor": "white",
            "ticks": ""
           },
           "bgcolor": "#E5ECF6",
           "caxis": {
            "gridcolor": "white",
            "linecolor": "white",
            "ticks": ""
           }
          },
          "title": {
           "x": 0.05
          },
          "xaxis": {
           "automargin": true,
           "gridcolor": "white",
           "linecolor": "white",
           "ticks": "",
           "title": {
            "standoff": 15
           },
           "zerolinecolor": "white",
           "zerolinewidth": 2
          },
          "yaxis": {
           "automargin": true,
           "gridcolor": "white",
           "linecolor": "white",
           "ticks": "",
           "title": {
            "standoff": 15
           },
           "zerolinecolor": "white",
           "zerolinewidth": 2
          }
         }
        },
        "title": {
         "text": "Sine Wave"
        },
        "xaxis": {
         "title": {
          "text": "X-axis"
         }
        },
        "yaxis": {
         "title": {
          "text": "Y-axis"
         }
        }
       }
      }
     },
     "metadata": {},
     "output_type": "display_data"
    }
   ],
   "source": [
    "x = np.linspace(0, 10, 100)\n",
    "y = np.sin(x)\n",
    "y2 = np.cos(x)\n",
    "\n",
    "fg= pg.Figure(data=pg.Scatter(x=x, y=y, name='sin(x)'))\n",
    "fg.add_trace(pg.Scatter(x=x, y=y2, name='cos(x)', line=dict(color='red')))\n",
    "fg.update_layout(title='Sine Wave', xaxis_title='X-axis', yaxis_title='Y-axis')\n",
    "\n",
    "# Add annotations to the plot\n",
    "fg.add_annotation(text='Sine Wave', x=5, y=0, showarrow=True, arrowhead=2, ax=0, ay=-40)\n",
    "fg.add_annotation(text='Cosine Wave', x=5, y=0, showarrow=True, arrowhead=2, ax=0, ay=-40)\n",
    "fg.show()"
   ]
  },
  {
   "cell_type": "markdown",
   "metadata": {},
   "source": [
    "4."
   ]
  },
  {
   "cell_type": "code",
   "execution_count": 4,
   "metadata": {},
   "outputs": [
    {
     "data": {
      "application/vnd.plotly.v1+json": {
       "config": {
        "plotlyServerURL": "https://plot.ly"
       },
       "data": [
        {
         "name": "sin(x)",
         "type": "scatter",
         "x": [
          0,
          0.001001001001001001,
          0.002002002002002002,
          0.003003003003003003,
          0.004004004004004004,
          0.005005005005005005,
          0.006006006006006006,
          0.007007007007007007,
          0.008008008008008008,
          0.009009009009009009,
          0.01001001001001001,
          0.011011011011011011,
          0.012012012012012012,
          0.013013013013013013,
          0.014014014014014014,
          0.015015015015015015,
          0.016016016016016016,
          0.017017017017017015,
          0.018018018018018018,
          0.01901901901901902,
          0.02002002002002002,
          0.02102102102102102,
          0.022022022022022022,
          0.023023023023023025,
          0.024024024024024024,
          0.025025025025025023,
          0.026026026026026026,
          0.02702702702702703,
          0.028028028028028028,
          0.029029029029029027,
          0.03003003003003003,
          0.031031031031031032,
          0.03203203203203203,
          0.03303303303303303,
          0.03403403403403403,
          0.035035035035035036,
          0.036036036036036036,
          0.037037037037037035,
          0.03803803803803804,
          0.03903903903903904,
          0.04004004004004004,
          0.04104104104104104,
          0.04204204204204204,
          0.043043043043043044,
          0.044044044044044044,
          0.04504504504504504,
          0.04604604604604605,
          0.04704704704704705,
          0.04804804804804805,
          0.04904904904904905,
          0.050050050050050046,
          0.05105105105105105,
          0.05205205205205205,
          0.05305305305305305,
          0.05405405405405406,
          0.055055055055055056,
          0.056056056056056056,
          0.057057057057057055,
          0.058058058058058054,
          0.05905905905905906,
          0.06006006006006006,
          0.06106106106106106,
          0.062062062062062065,
          0.06306306306306306,
          0.06406406406406406,
          0.06506506506506507,
          0.06606606606606606,
          0.06706706706706707,
          0.06806806806806806,
          0.06906906906906907,
          0.07007007007007007,
          0.07107107107107107,
          0.07207207207207207,
          0.07307307307307308,
          0.07407407407407407,
          0.07507507507507508,
          0.07607607607607608,
          0.07707707707707707,
          0.07807807807807808,
          0.07907907907907907,
          0.08008008008008008,
          0.08108108108108109,
          0.08208208208208208,
          0.08308308308308308,
          0.08408408408408408,
          0.08508508508508508,
          0.08608608608608609,
          0.08708708708708708,
          0.08808808808808809,
          0.0890890890890891,
          0.09009009009009009,
          0.09109109109109109,
          0.0920920920920921,
          0.09309309309309309,
          0.0940940940940941,
          0.09509509509509509,
          0.0960960960960961,
          0.0970970970970971,
          0.0980980980980981,
          0.0990990990990991,
          0.10010010010010009,
          0.1011011011011011,
          0.1021021021021021,
          0.1031031031031031,
          0.1041041041041041,
          0.10510510510510511,
          0.1061061061061061,
          0.10710710710710711,
          0.10810810810810811,
          0.1091091091091091,
          0.11011011011011011,
          0.1111111111111111,
          0.11211211211211211,
          0.11311311311311312,
          0.11411411411411411,
          0.11511511511511512,
          0.11611611611611611,
          0.11711711711711711,
          0.11811811811811812,
          0.11911911911911911,
          0.12012012012012012,
          0.12112112112112113,
          0.12212212212212212,
          0.12312312312312312,
          0.12412412412412413,
          0.12512512512512514,
          0.12612612612612611,
          0.12712712712712712,
          0.12812812812812813,
          0.12912912912912913,
          0.13013013013013014,
          0.13113113113113112,
          0.13213213213213212,
          0.13313313313313313,
          0.13413413413413414,
          0.13513513513513514,
          0.13613613613613612,
          0.13713713713713713,
          0.13813813813813813,
          0.13913913913913914,
          0.14014014014014015,
          0.14114114114114115,
          0.14214214214214213,
          0.14314314314314314,
          0.14414414414414414,
          0.14514514514514515,
          0.14614614614614616,
          0.14714714714714713,
          0.14814814814814814,
          0.14914914914914915,
          0.15015015015015015,
          0.15115115115115116,
          0.15215215215215216,
          0.15315315315315314,
          0.15415415415415415,
          0.15515515515515516,
          0.15615615615615616,
          0.15715715715715717,
          0.15815815815815815,
          0.15915915915915915,
          0.16016016016016016,
          0.16116116116116116,
          0.16216216216216217,
          0.16316316316316315,
          0.16416416416416416,
          0.16516516516516516,
          0.16616616616616617,
          0.16716716716716717,
          0.16816816816816815,
          0.16916916916916916,
          0.17017017017017017,
          0.17117117117117117,
          0.17217217217217218,
          0.17317317317317318,
          0.17417417417417416,
          0.17517517517517517,
          0.17617617617617617,
          0.17717717717717718,
          0.1781781781781782,
          0.17917917917917917,
          0.18018018018018017,
          0.18118118118118118,
          0.18218218218218218,
          0.1831831831831832,
          0.1841841841841842,
          0.18518518518518517,
          0.18618618618618618,
          0.1871871871871872,
          0.1881881881881882,
          0.1891891891891892,
          0.19019019019019018,
          0.19119119119119118,
          0.1921921921921922,
          0.1931931931931932,
          0.1941941941941942,
          0.19519519519519518,
          0.1961961961961962,
          0.1971971971971972,
          0.1981981981981982,
          0.1991991991991992,
          0.20020020020020018,
          0.2012012012012012,
          0.2022022022022022,
          0.2032032032032032,
          0.2042042042042042,
          0.20520520520520522,
          0.2062062062062062,
          0.2072072072072072,
          0.2082082082082082,
          0.2092092092092092,
          0.21021021021021022,
          0.2112112112112112,
          0.2122122122122122,
          0.2132132132132132,
          0.21421421421421422,
          0.21521521521521522,
          0.21621621621621623,
          0.2172172172172172,
          0.2182182182182182,
          0.21921921921921922,
          0.22022022022022023,
          0.22122122122122123,
          0.2222222222222222,
          0.22322322322322322,
          0.22422422422422422,
          0.22522522522522523,
          0.22622622622622623,
          0.2272272272272272,
          0.22822822822822822,
          0.22922922922922923,
          0.23023023023023023,
          0.23123123123123124,
          0.23223223223223222,
          0.23323323323323322,
          0.23423423423423423,
          0.23523523523523523,
          0.23623623623623624,
          0.23723723723723725,
          0.23823823823823823,
          0.23923923923923923,
          0.24024024024024024,
          0.24124124124124124,
          0.24224224224224225,
          0.24324324324324323,
          0.24424424424424424,
          0.24524524524524524,
          0.24624624624624625,
          0.24724724724724725,
          0.24824824824824826,
          0.24924924924924924,
          0.2502502502502503,
          0.25125125125125125,
          0.25225225225225223,
          0.25325325325325326,
          0.25425425425425424,
          0.2552552552552553,
          0.25625625625625625,
          0.25725725725725723,
          0.25825825825825827,
          0.25925925925925924,
          0.2602602602602603,
          0.26126126126126126,
          0.26226226226226224,
          0.26326326326326327,
          0.26426426426426425,
          0.2652652652652653,
          0.26626626626626626,
          0.26726726726726724,
          0.2682682682682683,
          0.26926926926926925,
          0.2702702702702703,
          0.27127127127127126,
          0.27227227227227224,
          0.2732732732732733,
          0.27427427427427425,
          0.2752752752752753,
          0.27627627627627627,
          0.2772772772772773,
          0.2782782782782783,
          0.27927927927927926,
          0.2802802802802803,
          0.28128128128128127,
          0.2822822822822823,
          0.2832832832832833,
          0.28428428428428426,
          0.2852852852852853,
          0.2862862862862863,
          0.2872872872872873,
          0.2882882882882883,
          0.28928928928928926,
          0.2902902902902903,
          0.2912912912912913,
          0.2922922922922923,
          0.2932932932932933,
          0.29429429429429427,
          0.2952952952952953,
          0.2962962962962963,
          0.2972972972972973,
          0.2982982982982983,
          0.29929929929929927,
          0.3003003003003003,
          0.3013013013013013,
          0.3023023023023023,
          0.3033033033033033,
          0.30430430430430433,
          0.3053053053053053,
          0.3063063063063063,
          0.3073073073073073,
          0.3083083083083083,
          0.30930930930930933,
          0.3103103103103103,
          0.3113113113113113,
          0.3123123123123123,
          0.3133133133133133,
          0.31431431431431434,
          0.3153153153153153,
          0.3163163163163163,
          0.3173173173173173,
          0.3183183183183183,
          0.31931931931931934,
          0.3203203203203203,
          0.3213213213213213,
          0.32232232232232233,
          0.3233233233233233,
          0.32432432432432434,
          0.3253253253253253,
          0.3263263263263263,
          0.32732732732732733,
          0.3283283283283283,
          0.32932932932932935,
          0.3303303303303303,
          0.3313313313313313,
          0.33233233233233234,
          0.3333333333333333,
          0.33433433433433435,
          0.3353353353353353,
          0.3363363363363363,
          0.33733733733733734,
          0.3383383383383383,
          0.33933933933933935,
          0.34034034034034033,
          0.34134134134134136,
          0.34234234234234234,
          0.3433433433433433,
          0.34434434434434436,
          0.34534534534534533,
          0.34634634634634637,
          0.34734734734734735,
          0.3483483483483483,
          0.34934934934934936,
          0.35035035035035034,
          0.35135135135135137,
          0.35235235235235235,
          0.3533533533533533,
          0.35435435435435436,
          0.35535535535535534,
          0.3563563563563564,
          0.35735735735735735,
          0.35835835835835833,
          0.35935935935935936,
          0.36036036036036034,
          0.3613613613613614,
          0.36236236236236236,
          0.36336336336336333,
          0.36436436436436437,
          0.36536536536536535,
          0.3663663663663664,
          0.36736736736736736,
          0.3683683683683684,
          0.36936936936936937,
          0.37037037037037035,
          0.3713713713713714,
          0.37237237237237236,
          0.3733733733733734,
          0.3743743743743744,
          0.37537537537537535,
          0.3763763763763764,
          0.37737737737737737,
          0.3783783783783784,
          0.3793793793793794,
          0.38038038038038036,
          0.3813813813813814,
          0.38238238238238237,
          0.3833833833833834,
          0.3843843843843844,
          0.38538538538538536,
          0.3863863863863864,
          0.38738738738738737,
          0.3883883883883884,
          0.3893893893893894,
          0.39039039039039036,
          0.3913913913913914,
          0.3923923923923924,
          0.3933933933933934,
          0.3943943943943944,
          0.39539539539539537,
          0.3963963963963964,
          0.3973973973973974,
          0.3983983983983984,
          0.3993993993993994,
          0.40040040040040037,
          0.4014014014014014,
          0.4024024024024024,
          0.4034034034034034,
          0.4044044044044044,
          0.40540540540540543,
          0.4064064064064064,
          0.4074074074074074,
          0.4084084084084084,
          0.4094094094094094,
          0.41041041041041043,
          0.4114114114114114,
          0.4124124124124124,
          0.4134134134134134,
          0.4144144144144144,
          0.41541541541541543,
          0.4164164164164164,
          0.4174174174174174,
          0.4184184184184184,
          0.4194194194194194,
          0.42042042042042044,
          0.4214214214214214,
          0.4224224224224224,
          0.42342342342342343,
          0.4244244244244244,
          0.42542542542542544,
          0.4264264264264264,
          0.4274274274274274,
          0.42842842842842843,
          0.4294294294294294,
          0.43043043043043044,
          0.4314314314314314,
          0.43243243243243246,
          0.43343343343343343,
          0.4344344344344344,
          0.43543543543543545,
          0.4364364364364364,
          0.43743743743743746,
          0.43843843843843844,
          0.4394394394394394,
          0.44044044044044045,
          0.44144144144144143,
          0.44244244244244246,
          0.44344344344344344,
          0.4444444444444444,
          0.44544544544544545,
          0.44644644644644643,
          0.44744744744744747,
          0.44844844844844844,
          0.4494494494494494,
          0.45045045045045046,
          0.45145145145145144,
          0.45245245245245247,
          0.45345345345345345,
          0.4544544544544544,
          0.45545545545545546,
          0.45645645645645644,
          0.4574574574574575,
          0.45845845845845845,
          0.45945945945945943,
          0.46046046046046046,
          0.46146146146146144,
          0.4624624624624625,
          0.46346346346346345,
          0.46446446446446443,
          0.46546546546546547,
          0.46646646646646645,
          0.4674674674674675,
          0.46846846846846846,
          0.4694694694694695,
          0.47047047047047047,
          0.47147147147147145,
          0.4724724724724725,
          0.47347347347347346,
          0.4744744744744745,
          0.4754754754754755,
          0.47647647647647645,
          0.4774774774774775,
          0.47847847847847846,
          0.4794794794794795,
          0.4804804804804805,
          0.48148148148148145,
          0.4824824824824825,
          0.48348348348348347,
          0.4844844844844845,
          0.4854854854854855,
          0.48648648648648646,
          0.4874874874874875,
          0.48848848848848847,
          0.4894894894894895,
          0.4904904904904905,
          0.49149149149149146,
          0.4924924924924925,
          0.4934934934934935,
          0.4944944944944945,
          0.4954954954954955,
          0.4964964964964965,
          0.4974974974974975,
          0.4984984984984985,
          0.4994994994994995,
          0.5005005005005005,
          0.5015015015015015,
          0.5025025025025025,
          0.5035035035035035,
          0.5045045045045045,
          0.5055055055055055,
          0.5065065065065065,
          0.5075075075075075,
          0.5085085085085085,
          0.5095095095095095,
          0.5105105105105106,
          0.5115115115115115,
          0.5125125125125125,
          0.5135135135135135,
          0.5145145145145145,
          0.5155155155155156,
          0.5165165165165165,
          0.5175175175175175,
          0.5185185185185185,
          0.5195195195195195,
          0.5205205205205206,
          0.5215215215215215,
          0.5225225225225225,
          0.5235235235235235,
          0.5245245245245245,
          0.5255255255255256,
          0.5265265265265265,
          0.5275275275275275,
          0.5285285285285285,
          0.5295295295295295,
          0.5305305305305306,
          0.5315315315315315,
          0.5325325325325325,
          0.5335335335335335,
          0.5345345345345345,
          0.5355355355355356,
          0.5365365365365365,
          0.5375375375375375,
          0.5385385385385385,
          0.5395395395395395,
          0.5405405405405406,
          0.5415415415415415,
          0.5425425425425425,
          0.5435435435435435,
          0.5445445445445445,
          0.5455455455455456,
          0.5465465465465466,
          0.5475475475475475,
          0.5485485485485485,
          0.5495495495495496,
          0.5505505505505506,
          0.5515515515515516,
          0.5525525525525525,
          0.5535535535535535,
          0.5545545545545546,
          0.5555555555555556,
          0.5565565565565566,
          0.5575575575575575,
          0.5585585585585585,
          0.5595595595595596,
          0.5605605605605606,
          0.5615615615615616,
          0.5625625625625625,
          0.5635635635635635,
          0.5645645645645646,
          0.5655655655655656,
          0.5665665665665666,
          0.5675675675675675,
          0.5685685685685685,
          0.5695695695695696,
          0.5705705705705706,
          0.5715715715715716,
          0.5725725725725725,
          0.5735735735735735,
          0.5745745745745746,
          0.5755755755755756,
          0.5765765765765766,
          0.5775775775775776,
          0.5785785785785785,
          0.5795795795795796,
          0.5805805805805806,
          0.5815815815815816,
          0.5825825825825826,
          0.5835835835835835,
          0.5845845845845846,
          0.5855855855855856,
          0.5865865865865866,
          0.5875875875875876,
          0.5885885885885885,
          0.5895895895895896,
          0.5905905905905906,
          0.5915915915915916,
          0.5925925925925926,
          0.5935935935935935,
          0.5945945945945946,
          0.5955955955955956,
          0.5965965965965966,
          0.5975975975975976,
          0.5985985985985985,
          0.5995995995995996,
          0.6006006006006006,
          0.6016016016016016,
          0.6026026026026026,
          0.6036036036036035,
          0.6046046046046046,
          0.6056056056056056,
          0.6066066066066066,
          0.6076076076076076,
          0.6086086086086087,
          0.6096096096096096,
          0.6106106106106106,
          0.6116116116116116,
          0.6126126126126126,
          0.6136136136136137,
          0.6146146146146146,
          0.6156156156156156,
          0.6166166166166166,
          0.6176176176176176,
          0.6186186186186187,
          0.6196196196196196,
          0.6206206206206206,
          0.6216216216216216,
          0.6226226226226226,
          0.6236236236236237,
          0.6246246246246246,
          0.6256256256256256,
          0.6266266266266266,
          0.6276276276276276,
          0.6286286286286287,
          0.6296296296296297,
          0.6306306306306306,
          0.6316316316316316,
          0.6326326326326326,
          0.6336336336336337,
          0.6346346346346347,
          0.6356356356356356,
          0.6366366366366366,
          0.6376376376376376,
          0.6386386386386387,
          0.6396396396396397,
          0.6406406406406406,
          0.6416416416416416,
          0.6426426426426426,
          0.6436436436436437,
          0.6446446446446447,
          0.6456456456456456,
          0.6466466466466466,
          0.6476476476476476,
          0.6486486486486487,
          0.6496496496496497,
          0.6506506506506506,
          0.6516516516516516,
          0.6526526526526526,
          0.6536536536536537,
          0.6546546546546547,
          0.6556556556556556,
          0.6566566566566566,
          0.6576576576576576,
          0.6586586586586587,
          0.6596596596596597,
          0.6606606606606606,
          0.6616616616616616,
          0.6626626626626626,
          0.6636636636636637,
          0.6646646646646647,
          0.6656656656656657,
          0.6666666666666666,
          0.6676676676676676,
          0.6686686686686687,
          0.6696696696696697,
          0.6706706706706707,
          0.6716716716716716,
          0.6726726726726726,
          0.6736736736736737,
          0.6746746746746747,
          0.6756756756756757,
          0.6766766766766766,
          0.6776776776776777,
          0.6786786786786787,
          0.6796796796796797,
          0.6806806806806807,
          0.6816816816816816,
          0.6826826826826827,
          0.6836836836836837,
          0.6846846846846847,
          0.6856856856856857,
          0.6866866866866866,
          0.6876876876876877,
          0.6886886886886887,
          0.6896896896896897,
          0.6906906906906907,
          0.6916916916916916,
          0.6926926926926927,
          0.6936936936936937,
          0.6946946946946947,
          0.6956956956956957,
          0.6966966966966966,
          0.6976976976976977,
          0.6986986986986987,
          0.6996996996996997,
          0.7007007007007007,
          0.7017017017017017,
          0.7027027027027027,
          0.7037037037037037,
          0.7047047047047047,
          0.7057057057057057,
          0.7067067067067067,
          0.7077077077077077,
          0.7087087087087087,
          0.7097097097097097,
          0.7107107107107107,
          0.7117117117117117,
          0.7127127127127127,
          0.7137137137137137,
          0.7147147147147147,
          0.7157157157157157,
          0.7167167167167167,
          0.7177177177177178,
          0.7187187187187187,
          0.7197197197197197,
          0.7207207207207207,
          0.7217217217217217,
          0.7227227227227228,
          0.7237237237237237,
          0.7247247247247247,
          0.7257257257257257,
          0.7267267267267267,
          0.7277277277277278,
          0.7287287287287287,
          0.7297297297297297,
          0.7307307307307307,
          0.7317317317317317,
          0.7327327327327328,
          0.7337337337337337,
          0.7347347347347347,
          0.7357357357357357,
          0.7367367367367368,
          0.7377377377377378,
          0.7387387387387387,
          0.7397397397397397,
          0.7407407407407407,
          0.7417417417417418,
          0.7427427427427428,
          0.7437437437437437,
          0.7447447447447447,
          0.7457457457457457,
          0.7467467467467468,
          0.7477477477477478,
          0.7487487487487487,
          0.7497497497497497,
          0.7507507507507507,
          0.7517517517517518,
          0.7527527527527528,
          0.7537537537537538,
          0.7547547547547547,
          0.7557557557557557,
          0.7567567567567568,
          0.7577577577577578,
          0.7587587587587588,
          0.7597597597597597,
          0.7607607607607607,
          0.7617617617617618,
          0.7627627627627628,
          0.7637637637637638,
          0.7647647647647647,
          0.7657657657657657,
          0.7667667667667668,
          0.7677677677677678,
          0.7687687687687688,
          0.7697697697697697,
          0.7707707707707707,
          0.7717717717717718,
          0.7727727727727728,
          0.7737737737737738,
          0.7747747747747747,
          0.7757757757757757,
          0.7767767767767768,
          0.7777777777777778,
          0.7787787787787788,
          0.7797797797797797,
          0.7807807807807807,
          0.7817817817817818,
          0.7827827827827828,
          0.7837837837837838,
          0.7847847847847848,
          0.7857857857857857,
          0.7867867867867868,
          0.7877877877877878,
          0.7887887887887888,
          0.7897897897897898,
          0.7907907907907907,
          0.7917917917917918,
          0.7927927927927928,
          0.7937937937937938,
          0.7947947947947948,
          0.7957957957957957,
          0.7967967967967968,
          0.7977977977977978,
          0.7987987987987988,
          0.7997997997997998,
          0.8008008008008007,
          0.8018018018018018,
          0.8028028028028028,
          0.8038038038038038,
          0.8048048048048048,
          0.8058058058058059,
          0.8068068068068068,
          0.8078078078078078,
          0.8088088088088088,
          0.8098098098098098,
          0.8108108108108109,
          0.8118118118118118,
          0.8128128128128128,
          0.8138138138138138,
          0.8148148148148148,
          0.8158158158158159,
          0.8168168168168168,
          0.8178178178178178,
          0.8188188188188188,
          0.8198198198198198,
          0.8208208208208209,
          0.8218218218218218,
          0.8228228228228228,
          0.8238238238238238,
          0.8248248248248248,
          0.8258258258258259,
          0.8268268268268268,
          0.8278278278278278,
          0.8288288288288288,
          0.8298298298298298,
          0.8308308308308309,
          0.8318318318318318,
          0.8328328328328328,
          0.8338338338338338,
          0.8348348348348348,
          0.8358358358358359,
          0.8368368368368369,
          0.8378378378378378,
          0.8388388388388388,
          0.8398398398398398,
          0.8408408408408409,
          0.8418418418418419,
          0.8428428428428428,
          0.8438438438438438,
          0.8448448448448448,
          0.8458458458458459,
          0.8468468468468469,
          0.8478478478478478,
          0.8488488488488488,
          0.8498498498498498,
          0.8508508508508509,
          0.8518518518518519,
          0.8528528528528528,
          0.8538538538538538,
          0.8548548548548548,
          0.8558558558558559,
          0.8568568568568569,
          0.8578578578578578,
          0.8588588588588588,
          0.8598598598598598,
          0.8608608608608609,
          0.8618618618618619,
          0.8628628628628628,
          0.8638638638638638,
          0.8648648648648649,
          0.8658658658658659,
          0.8668668668668669,
          0.8678678678678678,
          0.8688688688688688,
          0.8698698698698699,
          0.8708708708708709,
          0.8718718718718719,
          0.8728728728728729,
          0.8738738738738738,
          0.8748748748748749,
          0.8758758758758759,
          0.8768768768768769,
          0.8778778778778779,
          0.8788788788788788,
          0.8798798798798799,
          0.8808808808808809,
          0.8818818818818819,
          0.8828828828828829,
          0.8838838838838838,
          0.8848848848848849,
          0.8858858858858859,
          0.8868868868868869,
          0.8878878878878879,
          0.8888888888888888,
          0.8898898898898899,
          0.8908908908908909,
          0.8918918918918919,
          0.8928928928928929,
          0.8938938938938938,
          0.8948948948948949,
          0.8958958958958959,
          0.8968968968968969,
          0.8978978978978979,
          0.8988988988988988,
          0.8998998998998999,
          0.9009009009009009,
          0.9019019019019019,
          0.9029029029029029,
          0.9039039039039038,
          0.9049049049049049,
          0.9059059059059059,
          0.9069069069069069,
          0.9079079079079079,
          0.9089089089089089,
          0.9099099099099099,
          0.9109109109109109,
          0.9119119119119119,
          0.9129129129129129,
          0.9139139139139139,
          0.914914914914915,
          0.9159159159159159,
          0.9169169169169169,
          0.9179179179179179,
          0.9189189189189189,
          0.91991991991992,
          0.9209209209209209,
          0.9219219219219219,
          0.9229229229229229,
          0.9239239239239239,
          0.924924924924925,
          0.9259259259259259,
          0.9269269269269269,
          0.9279279279279279,
          0.9289289289289289,
          0.92992992992993,
          0.9309309309309309,
          0.9319319319319319,
          0.9329329329329329,
          0.933933933933934,
          0.934934934934935,
          0.9359359359359359,
          0.9369369369369369,
          0.9379379379379379,
          0.938938938938939,
          0.93993993993994,
          0.9409409409409409,
          0.9419419419419419,
          0.9429429429429429,
          0.943943943943944,
          0.944944944944945,
          0.9459459459459459,
          0.9469469469469469,
          0.9479479479479479,
          0.948948948948949,
          0.94994994994995,
          0.950950950950951,
          0.9519519519519519,
          0.9529529529529529,
          0.953953953953954,
          0.954954954954955,
          0.955955955955956,
          0.9569569569569569,
          0.9579579579579579,
          0.958958958958959,
          0.95995995995996,
          0.960960960960961,
          0.9619619619619619,
          0.9629629629629629,
          0.963963963963964,
          0.964964964964965,
          0.965965965965966,
          0.9669669669669669,
          0.9679679679679679,
          0.968968968968969,
          0.96996996996997,
          0.970970970970971,
          0.9719719719719719,
          0.9729729729729729,
          0.973973973973974,
          0.974974974974975,
          0.975975975975976,
          0.9769769769769769,
          0.9779779779779779,
          0.978978978978979,
          0.97997997997998,
          0.980980980980981,
          0.9819819819819819,
          0.9829829829829829,
          0.983983983983984,
          0.984984984984985,
          0.985985985985986,
          0.986986986986987,
          0.9879879879879879,
          0.988988988988989,
          0.98998998998999,
          0.990990990990991,
          0.991991991991992,
          0.992992992992993,
          0.993993993993994,
          0.994994994994995,
          0.995995995995996,
          0.996996996996997,
          0.997997997997998,
          0.998998998998999,
          1
         ],
         "y": [
          0,
          0.001001000833833341,
          0.0020020006646609234,
          0.003002998489477993,
          0.004003993305281807,
          0.005004984109072635,
          0.0060059698978547705,
          0.007006949668637528,
          0.008007922418436255,
          0.009008887144273335,
          0.010009842843179184,
          0.011010788512193274,
          0.012011723148365119,
          0.013012645748755292,
          0.014013555310436422,
          0.015014450830494208,
          0.016015331306028415,
          0.017016195734153878,
          0.01801704311200153,
          0.019017872436719367,
          0.020018682705473478,
          0.021019472915449058,
          0.0220202420638514,
          0.02302098914790688,
          0.024021713164864008,
          0.02502241311199439,
          0.026023087986593762,
          0.02702373678598298,
          0.028024358507509013,
          0.02902495214854598,
          0.030025516706496138,
          0.03102605117879087,
          0.03202655456289171,
          0.03302702585629135,
          0.034027464056514634,
          0.035027868161119566,
          0.036028237167698304,
          0.03702857007387818,
          0.038028865877322716,
          0.03902912357573258,
          0.04002934216684664,
          0.04102952064844295,
          0.04202965801833975,
          0.04302975327439649,
          0.04402980541451477,
          0.04502981343663945,
          0.046029776338759563,
          0.04702969311890936,
          0.04802956277516931,
          0.0490293843056671,
          0.050029156708578625,
          0.05102887898212904,
          0.05202855012459368,
          0.05302816913429916,
          0.054027735009624316,
          0.055027246749001196,
          0.05602670335091615,
          0.05702610381391072,
          0.05802544713658273,
          0.059024732317587265,
          0.06002395835563764,
          0.061023124249506455,
          0.06202222899802657,
          0.06302127160009209,
          0.06402025105465943,
          0.06501916636074825,
          0.0660180165174425,
          0.0670168005238914,
          0.06801551737931047,
          0.0690141660829825,
          0.07001274563425858,
          0.07101125503255905,
          0.07200969327737461,
          0.07300805936826722,
          0.07400635230487113,
          0.0750045710868939,
          0.07600271471411742,
          0.07700078218639882,
          0.07799877250367161,
          0.07899668466594657,
          0.0799945176733128,
          0.08099227052593871,
          0.08198994222407302,
          0.0829875317680458,
          0.08398503815826938,
          0.08498246039523948,
          0.08597979747953607,
          0.08697704841182449,
          0.08797421219285642,
          0.0889712878234708,
          0.08996827430459496,
          0.09096517063724553,
          0.09196197582252949,
          0.09295868886164509,
          0.093955308755883,
          0.09495183450662713,
          0.09594826511535581,
          0.09694459958364264,
          0.09794083691315758,
          0.09893697610566791,
          0.09993301616303925,
          0.10092895608723655,
          0.10192479488032513,
          0.10292053154447155,
          0.10391616508194483,
          0.10491169449511721,
          0.10590711878646533,
          0.10690243695857116,
          0.10789764801412295,
          0.10889275095591633,
          0.10988774478685526,
          0.11088262850995298,
          0.11187740112833314,
          0.11287206164523064,
          0.11386660906399275,
          0.11486104238808005,
          0.11585536062106744,
          0.11684956276664517,
          0.11784364782861975,
          0.11883761481091507,
          0.11983146271757329,
          0.12082519055275594,
          0.12181879732074478,
          0.12281228202594298,
          0.12380564367287591,
          0.12479888126619236,
          0.12579199381066528,
          0.12678498031119306,
          0.12777783977280036,
          0.128770571200639,
          0.12976317359998926,
          0.1307556459762606,
          0.13174798733499285,
          0.13274019668185705,
          0.13373227302265653,
          0.13472421536332788,
          0.13571602270994196,
          0.136707694068705,
          0.13769922844595933,
          0.13869062484818465,
          0.13968188228199885,
          0.14067299975415906,
          0.14166397627156269,
          0.14265481084124843,
          0.1436455024703971,
          0.14463605016633277,
          0.14562645293652382,
          0.1466167097885837,
          0.14760681973027226,
          0.14859678176949637,
          0.1495865949143112,
          0.15057625817292108,
          0.15156577055368053,
          0.15255513106509525,
          0.15354433871582313,
          0.15453339251467524,
          0.15552229147061675,
          0.15651103459276802,
          0.15749962089040556,
          0.15848804937296304,
          0.1594763190500322,
          0.16046442893136395,
          0.1614523780268693,
          0.16244016534662034,
          0.16342778990085136,
          0.16441525069995963,
          0.16540254675450652,
          0.16638967707521857,
          0.16737664067298824,
          0.1683634365588752,
          0.16935006374410702,
          0.17033652124008042,
          0.1713228080583621,
          0.1723089232106898,
          0.1732948657089732,
          0.1742806345652951,
          0.17526622879191223,
          0.17625164740125626,
          0.17723688940593488,
          0.17822195381873268,
          0.17920683965261233,
          0.18019154592071532,
          0.18117607163636307,
          0.18216041581305792,
          0.18314457746448418,
          0.18412855560450894,
          0.18511234924718328,
          0.18609595740674312,
          0.18707937909761013,
          0.18806261333439298,
          0.18904565913188803,
          0.19002851550508057,
          0.19101118146914564,
          0.19199365603944907,
          0.19297593823154843,
          0.19395802706119414,
          0.1949399215443303,
          0.1959216206970958,
          0.1969031235358252,
          0.1978844290770498,
          0.19886553633749854,
          0.19984644433409915,
          0.20082715208397892,
          0.2018076586044658,
          0.20278796291308945,
          0.20376806402758202,
          0.20474796096587933,
          0.20572765274612187,
          0.20670713838665555,
          0.20768641690603293,
          0.20866548732301404,
          0.20964434865656745,
          0.2106229999258713,
          0.21160144015031415,
          0.212579668349496,
          0.21355768354322938,
          0.21453548475154016,
          0.2155130709946687,
          0.21649044129307077,
          0.2174675946674184,
          0.21844453013860113,
          0.21942124672772673,
          0.22039774345612226,
          0.22137401934533527,
          0.2223500734171344,
          0.22332590469351063,
          0.22430151219667818,
          0.22527689494907543,
          0.2262520519733661,
          0.22722698229243996,
          0.22820168492941395,
          0.22917615890763324,
          0.23015040325067201,
          0.23112441698233463,
          0.23209819912665647,
          0.23307174870790498,
          0.23404506475058062,
          0.23501814627941792,
          0.23599099231938628,
          0.23696360189569118,
          0.23793597403377498,
          0.23890810775931792,
          0.2398800020982392,
          0.24085165607669784,
          0.24182306872109374,
          0.24279423905806857,
          0.24376516611450683,
          0.24473584891753677,
          0.24570628649453138,
          0.24667647787310934,
          0.24764642208113616,
          0.2486161181467248,
          0.24958556509823698,
          0.2505547619642841,
          0.251523707773728,
          0.25249240155568226,
          0.2534608423395127,
          0.25442902915483895,
          0.25539696103153503,
          0.2563646369997302,
          0.2573320560898106,
          0.2582992173324191,
          0.2592661197584576,
          0.260232762399087,
          0.26119914428572844,
          0.2621652644500646,
          0.2631311219240401,
          0.264096715739863,
          0.2650620449300055,
          0.2660271085272049,
          0.26699190556446467,
          0.26795643507505534,
          0.26892069609251557,
          0.269884687650653,
          0.27084840878354516,
          0.27181185852554085,
          0.27277503591126046,
          0.2737379399755975,
          0.27470056975371926,
          0.2756629242810679,
          0.2766250025933614,
          0.2775868037265945,
          0.2785483267170396,
          0.27950957060124787,
          0.2804705344160501,
          0.28143121719855785,
          0.282391617986164,
          0.2833517358165443,
          0.28431156972765786,
          0.2852711187577482,
          0.2862303819453445,
          0.2871893583292622,
          0.2881480469486042,
          0.2891064468427616,
          0.290064557051415,
          0.2910223766145351,
          0.291979904572384,
          0.2929371399655159,
          0.293894081834778,
          0.2948507292213118,
          0.2958070811665539,
          0.2967631367122368,
          0.29771889490039016,
          0.29867435477334126,
          0.29962951537371674,
          0.30058437574444274,
          0.30153893492874645,
          0.3024931919701568,
          0.3034471459125053,
          0.30440079579992757,
          0.30535414067686345,
          0.3063071795880586,
          0.3072599115785653,
          0.3082123356937433,
          0.3091644509792609,
          0.31011625648109564,
          0.31106775124553576,
          0.3120189343191808,
          0.31296980474894237,
          0.31392036158204567,
          0.3148706038660299,
          0.3158205306487495,
          0.3167701409783751,
          0.31771943390339435,
          0.318668408472613,
          0.31961706373515575,
          0.3205653987404672,
          0.321513412538313,
          0.3224611041787805,
          0.3234084727122799,
          0.3243555171895452,
          0.325302236661635,
          0.3262486301799337,
          0.3271946967961522,
          0.3281404355623291,
          0.32908584553083114,
          0.33003092575435494,
          0.3309756752859274,
          0.3319200931789066,
          0.3328641784869832,
          0.33380793026418076,
          0.33475134756485747,
          0.33569442944370625,
          0.3366371749557564,
          0.3375795831563742,
          0.3385216531012638,
          0.3394633838464684,
          0.34040477444837103,
          0.34134582396369556,
          0.34228653144950766,
          0.34322689596321565,
          0.34416691656257153,
          0.3451065923056719,
          0.346045922250959,
          0.34698490545722144,
          0.3479235409835953,
          0.34886182788956505,
          0.3497997652349644,
          0.35073735207997747,
          0.3516745874851395,
          0.35261147051133784,
          0.3535480002198131,
          0.3544841756721595,
          0.3554199959303267,
          0.3563554600566201,
          0.3572905671137018,
          0.35822531616459186,
          0.35915970627266897,
          0.36009373650167154,
          0.3610274059156985,
          0.36196071357921045,
          0.3628936585570303,
          0.36382623991434454,
          0.3647584567167039,
          0.3656903080300244,
          0.36662179292058833,
          0.3675529104550451,
          0.3684836597004122,
          0.36941403972407616,
          0.3703440495937935,
          0.37127368837769165,
          0.3722029551442698,
          0.3731318489623999,
          0.37406036890132777,
          0.3749885140306735,
          0.3759162834204331,
          0.37684367614097897,
          0.3777706912630608,
          0.3786973278578068,
          0.3796235849967243,
          0.380549461751701,
          0.38147495719500574,
          0.3824000703992893,
          0.38332480043758566,
          0.3842491463833124,
          0.38517310731027243,
          0.3860966822926541,
          0.38701987040503255,
          0.38794267072237065,
          0.38886508232001976,
          0.38978710427372076,
          0.39070873565960496,
          0.39162997555419504,
          0.3925508230344059,
          0.3934712771775457,
          0.3943913370613168,
          0.3953110017638163,
          0.3962302703635376,
          0.3971491419393709,
          0.3980676155706041,
          0.3989856903369241,
          0.39990336531841714,
          0.4008206395955703,
          0.40173751224927207,
          0.40265398236081335,
          0.4035700490118884,
          0.4044857112845958,
          0.40540096826143923,
          0.40631581902532865,
          0.40723026265958073,
          0.4081442982479204,
          0.4090579248744813,
          0.4099711416238069,
          0.41088394758085134,
          0.41179634183098035,
          0.4127083234599723,
          0.4136198915540189,
          0.4145310451997262,
          0.4154417834841157,
          0.41635210549462487,
          0.41726201031910853,
          0.4181714970458392,
          0.41908056476350874,
          0.41998921256122845,
          0.42089743952853065,
          0.42180524475536935,
          0.4227126273321209,
          0.42361958634958546,
          0.4245261208989874,
          0.4254322300719764,
          0.42633791296062845,
          0.4272431686574467,
          0.42814799625536226,
          0.4290523948477352,
          0.42995636352835553,
          0.43085990139144403,
          0.4317630075316531,
          0.43266568104406766,
          0.4335679210242063,
          0.4344697265680219,
          0.4353710967719027,
          0.4362720307326731,
          0.43717252754759467,
          0.4380725863143669,
          0.43897220613112836,
          0.4398713860964573,
          0.4407701253093728,
          0.4416684228693356,
          0.4425662778762488,
          0.44346368943045916,
          0.44436065663275764,
          0.44525717858438046,
          0.4461532543870101,
          0.44704888314277585,
          0.4479440639542552,
          0.44883879592447434,
          0.44973307815690916,
          0.45062690975548636,
          0.4515202898245839,
          0.45241321746903257,
          0.45330569179411606,
          0.4541977119055725,
          0.45508927690959533,
          0.45598038591283363,
          0.45687103802239365,
          0.45776123234583926,
          0.4586509679911933,
          0.45954024406693805,
          0.4604290596820162,
          0.4613174139458319,
          0.46220530596825166,
          0.463092734859605,
          0.4639796997306857,
          0.4648661996927522,
          0.4657522338575292,
          0.46663780133720756,
          0.4675229012444463,
          0.4684075326923727,
          0.4692916947945834,
          0.4701753866651454,
          0.4710586074185969,
          0.47194135616994815,
          0.47282363203468225,
          0.47370543412875626,
          0.47458676156860197,
          0.47546761347112654,
          0.47634798895371394,
          0.47722788713422526,
          0.47810730713099997,
          0.47898624806285683,
          0.4798647090490943,
          0.48074268920949187,
          0.4816201876643109,
          0.4824972035342954,
          0.48337373594067296,
          0.48424978400515556,
          0.4851253468499403,
          0.4860004235977108,
          0.4868750133716375,
          0.48774911529537907,
          0.48862272849308275,
          0.48949585208938545,
          0.49036848520941484,
          0.49124062697879006,
          0.49211227652362244,
          0.49298343297051667,
          0.49385409544657133,
          0.4947242630793801,
          0.4955939349970325,
          0.4964631103281148,
          0.49733178820171076,
          0.49819996774740244,
          0.4990676480952716,
          0.49993482837589986,
          0.5008015077203701,
          0.5016676852602673,
          0.5025333601276786,
          0.5033985314551955,
          0.5042631983759138,
          0.5051273600234348,
          0.5059910155318659,
          0.5068541640358217,
          0.507716804670425,
          0.5085789365713073,
          0.5094405588746099,
          0.510301670716985,
          0.5111622712355954,
          0.5120223595681175,
          0.51288193485274,
          0.5137409962281659,
          0.5145995428336135,
          0.5154575738088162,
          0.5163150882940246,
          0.5171720854300068,
          0.518028564358049,
          0.5188845242199571,
          0.5197399641580565,
          0.5205948833151939,
          0.521449280834738,
          0.52230315586058,
          0.5231565075371343,
          0.5240093350093403,
          0.5248616374226623,
          0.525713413923091,
          0.5265646636571437,
          0.5274153857718655,
          0.5282655794148307,
          0.5291152437341424,
          0.5299643778784348,
          0.5308129809968729,
          0.5316610522391539,
          0.5325085907555079,
          0.5333555956966989,
          0.5342020662140253,
          0.5350480014593215,
          0.5358934005849576,
          0.5367382627438413,
          0.5375825870894183,
          0.5384263727756731,
          0.5392696189571301,
          0.540112324788854,
          0.5409544894264511,
          0.54179611202607,
          0.5426371917444025,
          0.5434777277386842,
          0.5443177191666955,
          0.5451571651867626,
          0.5459960649577582,
          0.5468344176391021,
          0.5476722223907629,
          0.5485094783732571,
          0.5493461847476523,
          0.5501823406755662,
          0.5510179453191678,
          0.5518529978411792,
          0.5526874974048751,
          0.5535214431740846,
          0.5543548343131915,
          0.5551876699871356,
          0.5560199493614131,
          0.5568516716020775,
          0.5576828358757406,
          0.5585134413495737,
          0.5593434871913076,
          0.5601729725692337,
          0.5610018966522055,
          0.5618302586096384,
          0.5626580576115116,
          0.5634852928283678,
          0.5643119634313151,
          0.565138068592027,
          0.5659636074827438,
          0.5667885792762731,
          0.5676129831459907,
          0.5684368182658417,
          0.5692600838103407,
          0.5700827789545733,
          0.5709049028741965,
          0.5717264547454398,
          0.5725474337451059,
          0.5733678390505712,
          0.5741876698397874,
          0.5750069252912817,
          0.5758256045841577,
          0.5766437068980961,
          0.5774612314133563,
          0.5782781773107761,
          0.5790945437717736,
          0.5799103299783471,
          0.5807255351130763,
          0.5815401583591235,
          0.5823541989002338,
          0.583167655920736,
          0.5839805286055441,
          0.584792816140157,
          0.5856045177106602,
          0.5864156325037266,
          0.5872261597066167,
          0.58803609850718,
          0.5888454480938552,
          0.5896542076556718,
          0.5904623763822504,
          0.5912699534638034,
          0.5920769380911365,
          0.5928833294556484,
          0.5936891267493328,
          0.5944943291647784,
          0.5952989358951701,
          0.5961029461342897,
          0.5969063590765162,
          0.5977091739168279,
          0.5985113898508018,
          0.5993130060746151,
          0.6001140217850462,
          0.600914436179475,
          0.6017142484558838,
          0.6025134578128584,
          0.6033120634495888,
          0.6041100645658698,
          0.6049074603621017,
          0.605704250039292,
          0.6065004327990547,
          0.6072960078436127,
          0.6080909743757974,
          0.6088853315990498,
          0.6096790787174218,
          0.6104722149355765,
          0.611264739458789,
          0.6120566514929475,
          0.6128479502445539,
          0.6136386349207242,
          0.6144287047291904,
          0.6152181588783001,
          0.6160069965770181,
          0.6167952170349263,
          0.617582819462226,
          0.618369803069737,
          0.6191561670688994,
          0.6199419106717744,
          0.6207270330910444,
          0.6215115335400144,
          0.6222954112326129,
          0.623078665383392,
          0.6238612952075289,
          0.6246432999208259,
          0.6254246787397123,
          0.6262054308812441,
          0.6269855555631055,
          0.6277650520036092,
          0.6285439194216975,
          0.629322157036943,
          0.6300997640695493,
          0.630876739740352,
          0.6316530832708189,
          0.6324287938830518,
          0.6332038707997865,
          0.6339783132443932,
          0.6347521204408788,
          0.635525291613886,
          0.636297825988695,
          0.6370697227912242,
          0.6378409812480307,
          0.6386116005863113,
          0.6393815800339031,
          0.6401509188192844,
          0.6409196161715758,
          0.6416876713205399,
          0.6424550834965835,
          0.6432218519307573,
          0.643987975854757,
          0.6447534545009241,
          0.645518287102247,
          0.6462824728923612,
          0.64704601110555,
          0.6478089009767461,
          0.6485711417415317,
          0.6493327326361392,
          0.6500936728974523,
          0.6508539617630068,
          0.6516135984709908,
          0.6523725822602461,
          0.6531309123702689,
          0.6538885880412102,
          0.6546456085138767,
          0.6554019730297316,
          0.6561576808308955,
          0.6569127311601471,
          0.6576671232609238,
          0.6584208563773222,
          0.6591739297540997,
          0.6599263426366746,
          0.660678094271127,
          0.6614291839041996,
          0.6621796107832982,
          0.662929374156493,
          0.6636784732725189,
          0.6644269073807766,
          0.6651746757313327,
          0.6659217775749211,
          0.6666682121629437,
          0.6674139787474708,
          0.6681590765812421,
          0.6689035049176675,
          0.6696472630108274,
          0.6703903501154742,
          0.6711327654870325,
          0.6718745083815999,
          0.6726155780559476,
          0.673355973767522,
          0.6740956947744442,
          0.6748347403355116,
          0.6755731097101986,
          0.6763108021586566,
          0.6770478169417158,
          0.6777841533208853,
          0.6785198105583538,
          0.6792547879169906,
          0.6799890846603461,
          0.6807227000526531,
          0.6814556333588268,
          0.6821878838444656,
          0.6829194507758528,
          0.6836503334199558,
          0.6843805310444283,
          0.68511004291761,
          0.6858388683085279,
          0.6865670064868971,
          0.6872944567231206,
          0.6880212182882914,
          0.6887472904541921,
          0.6894726724932966,
          0.6901973636787697,
          0.6909213632844687,
          0.6916446705849439,
          0.6923672848554395,
          0.6930892053718937,
          0.6938104314109401,
          0.694530962249908,
          0.6952507971668235,
          0.6959699354404097,
          0.6966883763500883,
          0.6974061191759793,
          0.6981231631989021,
          0.6988395077003766,
          0.6995551519626235,
          0.7002700952685653,
          0.7009843369018267,
          0.7016978761467353,
          0.7024107122883227,
          0.7031228446123252,
          0.7038342724051841,
          0.7045449949540467,
          0.7052550115467666,
          0.7059643214719055,
          0.7066729240187326,
          0.7073808184772261,
          0.7080880041380737,
          0.7087944802926733,
          0.7095002462331338,
          0.7102053012522755,
          0.7109096446436313,
          0.7116132757014472,
          0.7123161937206826,
          0.7130183979970116,
          0.7137198878268236,
          0.7144206625072237,
          0.7151207213360338,
          0.7158200636117925,
          0.7165186886337571,
          0.7172165957019032,
          0.717913784116926,
          0.7186102531802404,
          0.7193060021939827,
          0.72000103046101,
          0.7206953372849022,
          0.7213889219699618,
          0.7220817838212149,
          0.7227739221444118,
          0.7234653362460282,
          0.7241560254332646,
          0.724845989014049,
          0.7255352262970355,
          0.7262237365916063,
          0.7269115192078724,
          0.7275985734566733,
          0.728284898649579,
          0.7289704940988893,
          0.7296553591176356,
          0.7303394930195812,
          0.731022895119222,
          0.7317055647317872,
          0.7323875011732396,
          0.7330687037602769,
          0.7337491718103323,
          0.7344289046415747,
          0.7351079015729101,
          0.7357861619239812,
          0.7364636850151692,
          0.7371404701675942,
          0.7378165167031153,
          0.7384918239443322,
          0.7391663912145847,
          0.7398402178379546,
          0.7405133031392658,
          0.7411856464440845,
          0.7418572470787211,
          0.7425281043702295,
          0.743198217646409,
          0.743867586235804,
          0.7445362094677052,
          0.7452040866721503,
          0.7458712171799242,
          0.7465376003225604,
          0.7472032354323409,
          0.7478681218422975,
          0.7485322588862118,
          0.7491956458986169,
          0.7498582822147968,
          0.7505201671707881,
          0.7511813001033801,
          0.7518416803501158,
          0.752501307249292,
          0.7531601801399609,
          0.7538182983619298,
          0.7544756612557623,
          0.7551322681627789,
          0.7557881184250576,
          0.7564432113854345,
          0.7570975463875044,
          0.7577511227756218,
          0.7584039398949015,
          0.7590559970912186,
          0.7597072937112098,
          0.7603578291022741,
          0.7610076026125733,
          0.7616566135910322,
          0.7623048613873399,
          0.7629523453519503,
          0.7635990648360828,
          0.7642450191917222,
          0.7648902077716204,
          0.7655346299292969,
          0.7661782850190384,
          0.766821172395901,
          0.7674632914157093,
          0.7681046414350585,
          0.7687452218113138,
          0.7693850319026118,
          0.770024071067861,
          0.7706623386667423,
          0.7712998340597097,
          0.7719365566079908,
          0.7725725056735879,
          0.7732076806192781,
          0.7738420808086145,
          0.7744757056059258,
          0.7751085543763184,
          0.7757406264856761,
          0.7763719213006605,
          0.7770024381887125,
          0.7776321765180524,
          0.7782611356576804,
          0.7788893149773777,
          0.7795167138477067,
          0.7801433316400121,
          0.7807691677264209,
          0.7813942214798434,
          0.7820184922739741,
          0.7826419794832918,
          0.7832646824830606,
          0.78388660064933,
          0.7845077333589364,
          0.785128079989503,
          0.7857476399194405,
          0.7863664125279483,
          0.7869843971950141,
          0.7876015933014158,
          0.7882180002287209,
          0.7888336173592878,
          0.7894484440762667,
          0.790062479763599,
          0.7906757238060194,
          0.7912881755890553,
          0.7918998344990286,
          0.7925106999230552,
          0.793120771249046,
          0.7937300478657078,
          0.7943385291625437,
          0.7949462145298536,
          0.7955531033587351,
          0.7961591950410837,
          0.7967644889695938,
          0.7973689845377592,
          0.7979726811398734,
          0.7985755781710309,
          0.7991776750271269,
          0.7997789711048586,
          0.8003794658017256,
          0.8009791585160305,
          0.8015780486468796,
          0.802176135594183,
          0.8027734187586558,
          0.8033698975418188,
          0.8039655713459982,
          0.8045604395743273,
          0.8051545016307464,
          0.8057477569200036,
          0.8063402048476552,
          0.8069318448200669,
          0.8075226762444133,
          0.8081126985286801,
          0.8087019110816629,
          0.8092903133129692,
          0.8098779046330181,
          0.8104646844530415,
          0.8110506521850842,
          0.8116358072420048,
          0.8122201490374764,
          0.8128036769859868,
          0.813386390502839,
          0.8139682890041526,
          0.8145493719068636,
          0.8151296386287251,
          0.8157090885883084,
          0.8162877212050027,
          0.8168655358990166,
          0.8174425320913778,
          0.8180187092039348,
          0.8185940666593563,
          0.8191686038811324,
          0.8197423202935751,
          0.820315215321819,
          0.8208872883918216,
          0.8214585389303639,
          0.8220289663650513,
          0.8225985701243137,
          0.8231673496374066,
          0.8237353043344112,
          0.8243024336462355,
          0.8248687370046138,
          0.8254342138421088,
          0.825998863592111,
          0.8265626856888397,
          0.8271256795673435,
          0.8276878446635009,
          0.8282491804140207,
          0.828809686256443,
          0.8293693616291393,
          0.8299282059713133,
          0.8304862187230012,
          0.8310433993250725,
          0.8315997472192309,
          0.832155261848014,
          0.8327099426547946,
          0.8332637890837807,
          0.833816800580017,
          0.8343689765893838,
          0.8349203165585996,
          0.8354708199352199,
          0.8360204861676388,
          0.836569314705089,
          0.8371173049976429,
          0.8376644564962126,
          0.8382107686525504,
          0.8387562409192503,
          0.8393008727497473,
          0.8398446635983188,
          0.8403876129200848,
          0.8409297201710083,
          0.8414709848078965
         ]
        }
       ],
       "layout": {
        "annotations": [
         {
          "arrowhead": 2,
          "ax": 20,
          "ay": -30,
          "showarrow": true,
          "text": "sin(x)",
          "x": 0.5,
          "y": 0.5
         }
        ],
        "shapes": [
         {
          "fillcolor": "yellow",
          "line": {
           "width": 0.1
          },
          "opacity": 0.2,
          "type": "rect",
          "x0": 0.2,
          "x1": 0.5,
          "y0": -0.5,
          "y1": 0.5
         }
        ],
        "template": {
         "data": {
          "bar": [
           {
            "error_x": {
             "color": "#2a3f5f"
            },
            "error_y": {
             "color": "#2a3f5f"
            },
            "marker": {
             "line": {
              "color": "#E5ECF6",
              "width": 0.5
             },
             "pattern": {
              "fillmode": "overlay",
              "size": 10,
              "solidity": 0.2
             }
            },
            "type": "bar"
           }
          ],
          "barpolar": [
           {
            "marker": {
             "line": {
              "color": "#E5ECF6",
              "width": 0.5
             },
             "pattern": {
              "fillmode": "overlay",
              "size": 10,
              "solidity": 0.2
             }
            },
            "type": "barpolar"
           }
          ],
          "carpet": [
           {
            "aaxis": {
             "endlinecolor": "#2a3f5f",
             "gridcolor": "white",
             "linecolor": "white",
             "minorgridcolor": "white",
             "startlinecolor": "#2a3f5f"
            },
            "baxis": {
             "endlinecolor": "#2a3f5f",
             "gridcolor": "white",
             "linecolor": "white",
             "minorgridcolor": "white",
             "startlinecolor": "#2a3f5f"
            },
            "type": "carpet"
           }
          ],
          "choropleth": [
           {
            "colorbar": {
             "outlinewidth": 0,
             "ticks": ""
            },
            "type": "choropleth"
           }
          ],
          "contour": [
           {
            "colorbar": {
             "outlinewidth": 0,
             "ticks": ""
            },
            "colorscale": [
             [
              0,
              "#0d0887"
             ],
             [
              0.1111111111111111,
              "#46039f"
             ],
             [
              0.2222222222222222,
              "#7201a8"
             ],
             [
              0.3333333333333333,
              "#9c179e"
             ],
             [
              0.4444444444444444,
              "#bd3786"
             ],
             [
              0.5555555555555556,
              "#d8576b"
             ],
             [
              0.6666666666666666,
              "#ed7953"
             ],
             [
              0.7777777777777778,
              "#fb9f3a"
             ],
             [
              0.8888888888888888,
              "#fdca26"
             ],
             [
              1,
              "#f0f921"
             ]
            ],
            "type": "contour"
           }
          ],
          "contourcarpet": [
           {
            "colorbar": {
             "outlinewidth": 0,
             "ticks": ""
            },
            "type": "contourcarpet"
           }
          ],
          "heatmap": [
           {
            "colorbar": {
             "outlinewidth": 0,
             "ticks": ""
            },
            "colorscale": [
             [
              0,
              "#0d0887"
             ],
             [
              0.1111111111111111,
              "#46039f"
             ],
             [
              0.2222222222222222,
              "#7201a8"
             ],
             [
              0.3333333333333333,
              "#9c179e"
             ],
             [
              0.4444444444444444,
              "#bd3786"
             ],
             [
              0.5555555555555556,
              "#d8576b"
             ],
             [
              0.6666666666666666,
              "#ed7953"
             ],
             [
              0.7777777777777778,
              "#fb9f3a"
             ],
             [
              0.8888888888888888,
              "#fdca26"
             ],
             [
              1,
              "#f0f921"
             ]
            ],
            "type": "heatmap"
           }
          ],
          "heatmapgl": [
           {
            "colorbar": {
             "outlinewidth": 0,
             "ticks": ""
            },
            "colorscale": [
             [
              0,
              "#0d0887"
             ],
             [
              0.1111111111111111,
              "#46039f"
             ],
             [
              0.2222222222222222,
              "#7201a8"
             ],
             [
              0.3333333333333333,
              "#9c179e"
             ],
             [
              0.4444444444444444,
              "#bd3786"
             ],
             [
              0.5555555555555556,
              "#d8576b"
             ],
             [
              0.6666666666666666,
              "#ed7953"
             ],
             [
              0.7777777777777778,
              "#fb9f3a"
             ],
             [
              0.8888888888888888,
              "#fdca26"
             ],
             [
              1,
              "#f0f921"
             ]
            ],
            "type": "heatmapgl"
           }
          ],
          "histogram": [
           {
            "marker": {
             "pattern": {
              "fillmode": "overlay",
              "size": 10,
              "solidity": 0.2
             }
            },
            "type": "histogram"
           }
          ],
          "histogram2d": [
           {
            "colorbar": {
             "outlinewidth": 0,
             "ticks": ""
            },
            "colorscale": [
             [
              0,
              "#0d0887"
             ],
             [
              0.1111111111111111,
              "#46039f"
             ],
             [
              0.2222222222222222,
              "#7201a8"
             ],
             [
              0.3333333333333333,
              "#9c179e"
             ],
             [
              0.4444444444444444,
              "#bd3786"
             ],
             [
              0.5555555555555556,
              "#d8576b"
             ],
             [
              0.6666666666666666,
              "#ed7953"
             ],
             [
              0.7777777777777778,
              "#fb9f3a"
             ],
             [
              0.8888888888888888,
              "#fdca26"
             ],
             [
              1,
              "#f0f921"
             ]
            ],
            "type": "histogram2d"
           }
          ],
          "histogram2dcontour": [
           {
            "colorbar": {
             "outlinewidth": 0,
             "ticks": ""
            },
            "colorscale": [
             [
              0,
              "#0d0887"
             ],
             [
              0.1111111111111111,
              "#46039f"
             ],
             [
              0.2222222222222222,
              "#7201a8"
             ],
             [
              0.3333333333333333,
              "#9c179e"
             ],
             [
              0.4444444444444444,
              "#bd3786"
             ],
             [
              0.5555555555555556,
              "#d8576b"
             ],
             [
              0.6666666666666666,
              "#ed7953"
             ],
             [
              0.7777777777777778,
              "#fb9f3a"
             ],
             [
              0.8888888888888888,
              "#fdca26"
             ],
             [
              1,
              "#f0f921"
             ]
            ],
            "type": "histogram2dcontour"
           }
          ],
          "mesh3d": [
           {
            "colorbar": {
             "outlinewidth": 0,
             "ticks": ""
            },
            "type": "mesh3d"
           }
          ],
          "parcoords": [
           {
            "line": {
             "colorbar": {
              "outlinewidth": 0,
              "ticks": ""
             }
            },
            "type": "parcoords"
           }
          ],
          "pie": [
           {
            "automargin": true,
            "type": "pie"
           }
          ],
          "scatter": [
           {
            "fillpattern": {
             "fillmode": "overlay",
             "size": 10,
             "solidity": 0.2
            },
            "type": "scatter"
           }
          ],
          "scatter3d": [
           {
            "line": {
             "colorbar": {
              "outlinewidth": 0,
              "ticks": ""
             }
            },
            "marker": {
             "colorbar": {
              "outlinewidth": 0,
              "ticks": ""
             }
            },
            "type": "scatter3d"
           }
          ],
          "scattercarpet": [
           {
            "marker": {
             "colorbar": {
              "outlinewidth": 0,
              "ticks": ""
             }
            },
            "type": "scattercarpet"
           }
          ],
          "scattergeo": [
           {
            "marker": {
             "colorbar": {
              "outlinewidth": 0,
              "ticks": ""
             }
            },
            "type": "scattergeo"
           }
          ],
          "scattergl": [
           {
            "marker": {
             "colorbar": {
              "outlinewidth": 0,
              "ticks": ""
             }
            },
            "type": "scattergl"
           }
          ],
          "scattermapbox": [
           {
            "marker": {
             "colorbar": {
              "outlinewidth": 0,
              "ticks": ""
             }
            },
            "type": "scattermapbox"
           }
          ],
          "scatterpolar": [
           {
            "marker": {
             "colorbar": {
              "outlinewidth": 0,
              "ticks": ""
             }
            },
            "type": "scatterpolar"
           }
          ],
          "scatterpolargl": [
           {
            "marker": {
             "colorbar": {
              "outlinewidth": 0,
              "ticks": ""
             }
            },
            "type": "scatterpolargl"
           }
          ],
          "scatterternary": [
           {
            "marker": {
             "colorbar": {
              "outlinewidth": 0,
              "ticks": ""
             }
            },
            "type": "scatterternary"
           }
          ],
          "surface": [
           {
            "colorbar": {
             "outlinewidth": 0,
             "ticks": ""
            },
            "colorscale": [
             [
              0,
              "#0d0887"
             ],
             [
              0.1111111111111111,
              "#46039f"
             ],
             [
              0.2222222222222222,
              "#7201a8"
             ],
             [
              0.3333333333333333,
              "#9c179e"
             ],
             [
              0.4444444444444444,
              "#bd3786"
             ],
             [
              0.5555555555555556,
              "#d8576b"
             ],
             [
              0.6666666666666666,
              "#ed7953"
             ],
             [
              0.7777777777777778,
              "#fb9f3a"
             ],
             [
              0.8888888888888888,
              "#fdca26"
             ],
             [
              1,
              "#f0f921"
             ]
            ],
            "type": "surface"
           }
          ],
          "table": [
           {
            "cells": {
             "fill": {
              "color": "#EBF0F8"
             },
             "line": {
              "color": "white"
             }
            },
            "header": {
             "fill": {
              "color": "#C8D4E3"
             },
             "line": {
              "color": "white"
             }
            },
            "type": "table"
           }
          ]
         },
         "layout": {
          "annotationdefaults": {
           "arrowcolor": "#2a3f5f",
           "arrowhead": 0,
           "arrowwidth": 1
          },
          "autotypenumbers": "strict",
          "coloraxis": {
           "colorbar": {
            "outlinewidth": 0,
            "ticks": ""
           }
          },
          "colorscale": {
           "diverging": [
            [
             0,
             "#8e0152"
            ],
            [
             0.1,
             "#c51b7d"
            ],
            [
             0.2,
             "#de77ae"
            ],
            [
             0.3,
             "#f1b6da"
            ],
            [
             0.4,
             "#fde0ef"
            ],
            [
             0.5,
             "#f7f7f7"
            ],
            [
             0.6,
             "#e6f5d0"
            ],
            [
             0.7,
             "#b8e186"
            ],
            [
             0.8,
             "#7fbc41"
            ],
            [
             0.9,
             "#4d9221"
            ],
            [
             1,
             "#276419"
            ]
           ],
           "sequential": [
            [
             0,
             "#0d0887"
            ],
            [
             0.1111111111111111,
             "#46039f"
            ],
            [
             0.2222222222222222,
             "#7201a8"
            ],
            [
             0.3333333333333333,
             "#9c179e"
            ],
            [
             0.4444444444444444,
             "#bd3786"
            ],
            [
             0.5555555555555556,
             "#d8576b"
            ],
            [
             0.6666666666666666,
             "#ed7953"
            ],
            [
             0.7777777777777778,
             "#fb9f3a"
            ],
            [
             0.8888888888888888,
             "#fdca26"
            ],
            [
             1,
             "#f0f921"
            ]
           ],
           "sequentialminus": [
            [
             0,
             "#0d0887"
            ],
            [
             0.1111111111111111,
             "#46039f"
            ],
            [
             0.2222222222222222,
             "#7201a8"
            ],
            [
             0.3333333333333333,
             "#9c179e"
            ],
            [
             0.4444444444444444,
             "#bd3786"
            ],
            [
             0.5555555555555556,
             "#d8576b"
            ],
            [
             0.6666666666666666,
             "#ed7953"
            ],
            [
             0.7777777777777778,
             "#fb9f3a"
            ],
            [
             0.8888888888888888,
             "#fdca26"
            ],
            [
             1,
             "#f0f921"
            ]
           ]
          },
          "colorway": [
           "#636efa",
           "#EF553B",
           "#00cc96",
           "#ab63fa",
           "#FFA15A",
           "#19d3f3",
           "#FF6692",
           "#B6E880",
           "#FF97FF",
           "#FECB52"
          ],
          "font": {
           "color": "#2a3f5f"
          },
          "geo": {
           "bgcolor": "white",
           "lakecolor": "white",
           "landcolor": "#E5ECF6",
           "showlakes": true,
           "showland": true,
           "subunitcolor": "white"
          },
          "hoverlabel": {
           "align": "left"
          },
          "hovermode": "closest",
          "mapbox": {
           "style": "light"
          },
          "paper_bgcolor": "white",
          "plot_bgcolor": "#E5ECF6",
          "polar": {
           "angularaxis": {
            "gridcolor": "white",
            "linecolor": "white",
            "ticks": ""
           },
           "bgcolor": "#E5ECF6",
           "radialaxis": {
            "gridcolor": "white",
            "linecolor": "white",
            "ticks": ""
           }
          },
          "scene": {
           "xaxis": {
            "backgroundcolor": "#E5ECF6",
            "gridcolor": "white",
            "gridwidth": 2,
            "linecolor": "white",
            "showbackground": true,
            "ticks": "",
            "zerolinecolor": "white"
           },
           "yaxis": {
            "backgroundcolor": "#E5ECF6",
            "gridcolor": "white",
            "gridwidth": 2,
            "linecolor": "white",
            "showbackground": true,
            "ticks": "",
            "zerolinecolor": "white"
           },
           "zaxis": {
            "backgroundcolor": "#E5ECF6",
            "gridcolor": "white",
            "gridwidth": 2,
            "linecolor": "white",
            "showbackground": true,
            "ticks": "",
            "zerolinecolor": "white"
           }
          },
          "shapedefaults": {
           "line": {
            "color": "#2a3f5f"
           }
          },
          "ternary": {
           "aaxis": {
            "gridcolor": "white",
            "linecolor": "white",
            "ticks": ""
           },
           "baxis": {
            "gridcolor": "white",
            "linecolor": "white",
            "ticks": ""
           },
           "bgcolor": "#E5ECF6",
           "caxis": {
            "gridcolor": "white",
            "linecolor": "white",
            "ticks": ""
           }
          },
          "title": {
           "x": 0.05
          },
          "xaxis": {
           "automargin": true,
           "gridcolor": "white",
           "linecolor": "white",
           "ticks": "",
           "title": {
            "standoff": 15
           },
           "zerolinecolor": "white",
           "zerolinewidth": 2
          },
          "yaxis": {
           "automargin": true,
           "gridcolor": "white",
           "linecolor": "white",
           "ticks": "",
           "title": {
            "standoff": 15
           },
           "zerolinecolor": "white",
           "zerolinewidth": 2
          }
         }
        },
        "title": {
         "text": "Line Plot with Shapes"
        },
        "xaxis": {
         "title": {
          "text": "X-axis"
         }
        },
        "yaxis": {
         "title": {
          "text": "Y-axis"
         }
        }
       }
      }
     },
     "metadata": {},
     "output_type": "display_data"
    }
   ],
   "source": [
    "x = np.linspace(0, 1, 1000)\n",
    "y1 = np.sin(x)\n",
    "\n",
    "fg= pg.Figure(data=pg.Scatter(x=x,y=y1,name='sin(x)'))\n",
    "fg.update_layout(title='Line Plot with Shapes',xaxis_title='X-axis',yaxis_title='Y-axis')\n",
    "fg.add_annotation(text='sin(x)',x=0.5,y=0.5,showarrow=True,arrowhead=2,ax=20,ay=-30)\n",
    "fg.add_shape(type='rect',x0=0.2,x1=0.5,y0=-0.5,y1=0.5,fillcolor='yellow',opacity=0.2,line=dict(width=0.1))\n",
    "fg.show()"
   ]
  }
 ],
 "metadata": {
  "kernelspec": {
   "display_name": "Python 3",
   "language": "python",
   "name": "python3"
  },
  "language_info": {
   "codemirror_mode": {
    "name": "ipython",
    "version": 3
   },
   "file_extension": ".py",
   "mimetype": "text/x-python",
   "name": "python",
   "nbconvert_exporter": "python",
   "pygments_lexer": "ipython3",
   "version": "3.13.2"
  }
 },
 "nbformat": 4,
 "nbformat_minor": 2
}
