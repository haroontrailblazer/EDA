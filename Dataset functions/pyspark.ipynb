{
 "cells": [
  {
   "cell_type": "code",
   "execution_count": 1,
   "metadata": {},
   "outputs": [],
   "source": [
    "import pyspark as pk"
   ]
  },
  {
   "cell_type": "code",
   "execution_count": 2,
   "metadata": {},
   "outputs": [],
   "source": [
    "from pyspark.sql import SparkSession"
   ]
  },
  {
   "cell_type": "code",
   "execution_count": 3,
   "metadata": {},
   "outputs": [],
   "source": [
    "spark = SparkSession.builder \\\n",
    "\t.appName(\"Example App\") \\\n",
    "\t.master(\"local[*]\") \\\n",
    "\t.config(\"spark.driver.host\", \"127.0.0.1\") \\\n",
    "\t.getOrCreate()"
   ]
  },
  {
   "cell_type": "code",
   "execution_count": 4,
   "metadata": {},
   "outputs": [
    {
     "name": "stderr",
     "output_type": "stream",
     "text": [
      "<>:1: SyntaxWarning: invalid escape sequence '\\s'\n",
      "<>:1: SyntaxWarning: invalid escape sequence '\\s'\n",
      "C:\\Users\\haroo\\AppData\\Local\\Temp\\ipykernel_6136\\650869801.py:1: SyntaxWarning: invalid escape sequence '\\s'\n",
      "  dfs=spark.read.csv(\"C:\\student_marks.csv\",header=True,inferSchema=True)\n"
     ]
    },
    {
     "name": "stdout",
     "output_type": "stream",
     "text": [
      "+----------+-------------+----------+--------+------------+----------------+----------------+----------------+----------------+----------------+----------------+-------------------+-------------------+-------------------+-------------------+-----------+-------------+---------------+---------------+----+\n",
      "|Student ID| Student Name|Department|Semester|Type of Exam|Theory Subject 1|Theory Subject 2|Theory Subject 3|Theory Subject 4|Theory Subject 5|Theory Subject 6|Practical Subject 1|Practical Subject 2|Practical Subject 3|Practical Subject 4|Total Marks|Average Marks|Subjects Passed|Subjects Failed|_c19|\n",
      "+----------+-------------+----------+--------+------------+----------------+----------------+----------------+----------------+----------------+----------------+-------------------+-------------------+-------------------+-------------------+-----------+-------------+---------------+---------------+----+\n",
      "|       101| Sanjay Gupta|      MECH|       2|       Model|              33|              39|              60|              62|              89|              90|                 55|                 93|                 72|                 92|        685|         68.5|              8|              2|NULL|\n",
      "|       102|  Vijay Gupta|       EEE|       5| Unit Test 1|              85|              38|              89|              30|              68|              94|                 99|                 53|                 54|                 88|        698|         69.8|              8|              2|NULL|\n",
      "|       103|   Ankit Nair|       ECE|       2|  University|              76|              41|              51|              93|              88|              81|                 89|                 75|                 49|                 61|        704|         70.4|              8|              2|NULL|\n",
      "|       104|   Sneha Nair|        IT|       5| Unit Test 2|              76|              54|              52|              98|              55|              47|                 39|                 38|                 96|                 43|        598|         59.8|              6|              4|NULL|\n",
      "|       105|  Sneha Kumar|       CSE|       6|       Model|              37|              55|              76|              95|              39|              67|                 77|                100|                 94|                 53|        693|         69.3|              8|              2|NULL|\n",
      "|       106|   Ankit Nair|       CSE|       2|      CIAT-1|              97|              86|              57|              51|              42|              64|                 32|                 44|                 33|                 44|        550|         55.0|              5|              5|NULL|\n",
      "|       107|  Priya Patil|        IT|       1|      CIAT-2|              69|              32|              98|              44|              96|              59|                 44|                 78|                 50|                 64|        634|         63.4|              7|              3|NULL|\n",
      "|       108|  Ankit Reddy|        IT|       2|       Model|              64|              32|             100|              86|              70|              98|                 95|                 48|                 72|                 41|        706|         70.6|              7|              3|NULL|\n",
      "|       109|  Vijay Verma|       CSE|       1|  University|              73|              93|              69|              45|              33|              34|                 77|                 90|                100|                 72|        686|         68.6|              7|              3|NULL|\n",
      "|       110|  Sneha Gupta|       EEE|       2| Unit Test 2|              40|              59|              40|              40|              43|              79|                 65|                 98|                 52|                 90|        606|         60.6|              6|              4|NULL|\n",
      "|       111|   Meera Nair|      MECH|       6| Unit Test 1|              72|              92|              67|              52|              57|              54|                 84|                 49|                 67|                 95|        689|         68.9|              9|              1|NULL|\n",
      "|       112| Priya Sharma|        IT|       1|  University|              92|              36|              86|              99|              54|              41|                 74|                 94|                 48|                 93|        717|         71.7|              7|              3|NULL|\n",
      "|       113|  Ankit Verma|        IT|       5|  University|              63|              49|              85|              42|              41|              79|                 55|                 32|                 49|                 67|        562|         56.2|              5|              5|NULL|\n",
      "|       114|Karthik Gupta|       EEE|       5|  University|              79|              72|              34|              56|              82|              96|                 45|                 72|                 46|                 71|        653|         65.3|              7|              3|NULL|\n",
      "|       115|   Rohan Nair|       EEE|       5|      CIAT-1|              92|              70|              67|              95|              60|              99|                 97|                 89|                 71|                 40|        780|         78.0|              9|              1|NULL|\n",
      "|       116|   Ankit Nair|        IT|       3|       Model|              60|              89|              74|              58|              62|              92|                 70|                 71|                 59|                 49|        684|         68.4|              9|              1|NULL|\n",
      "|       117|  Rohan Singh|       CSE|       3| Unit Test 1|              31|              84|              75|              53|              52|              63|                 96|                 48|                 53|                 39|        594|         59.4|              7|              3|NULL|\n",
      "|       118|  Meera Singh|       CSE|       3| Unit Test 2|              39|              71|              76|              67|              84|             100|                100|                 33|                 74|                 42|        686|         68.6|              7|              3|NULL|\n",
      "|       119|  Sneha Gupta|       CSE|       1|       Model|              87|              95|              61|             100|              50|              63|                 50|                 67|                 40|                 38|        651|         65.1|              8|              2|NULL|\n",
      "|       120|  Rohan Joshi|      MECH|       3|  University|              75|              39|              94|              86|              97|              57|                 34|                 95|                 57|                 90|        724|         72.4|              8|              2|NULL|\n",
      "+----------+-------------+----------+--------+------------+----------------+----------------+----------------+----------------+----------------+----------------+-------------------+-------------------+-------------------+-------------------+-----------+-------------+---------------+---------------+----+\n",
      "only showing top 20 rows\n",
      "\n",
      "None\n"
     ]
    }
   ],
   "source": [
    "dfs=spark.read.csv(\"C:\\student_marks.csv\",header=True,inferSchema=True)\n",
    "print(dfs.show())"
   ]
  }
 ],
 "metadata": {
  "kernelspec": {
   "display_name": "Python 3",
   "language": "python",
   "name": "python3"
  },
  "language_info": {
   "codemirror_mode": {
    "name": "ipython",
    "version": 3
   },
   "file_extension": ".py",
   "mimetype": "text/x-python",
   "name": "python",
   "nbconvert_exporter": "python",
   "pygments_lexer": "ipython3",
   "version": "3.13.2"
  }
 },
 "nbformat": 4,
 "nbformat_minor": 2
}
