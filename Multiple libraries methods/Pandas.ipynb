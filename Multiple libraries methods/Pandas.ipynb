{
 "cells": [
  {
   "cell_type": "markdown",
   "metadata": {},
   "source": [
    "1.Merging:"
   ]
  },
  {
   "cell_type": "code",
   "execution_count": 1,
   "metadata": {},
   "outputs": [
    {
     "name": "stdout",
     "output_type": "stream",
     "text": [
      "  key   A   B   C   D\n",
      "0  K0  A0  B0  C0  D0\n",
      "1  K1  A1  B1  C1  D1\n",
      "2  K2  A2  B2  C2  D2\n",
      "3  K3  A3  B3  C3  D3\n"
     ]
    }
   ],
   "source": [
    "# Using the merge function \n",
    "import pandas as pd \n",
    "# First DataFrame \n",
    "left = pd.DataFrame({ \n",
    "\"key\": [\"K0\", \"K1\", \"K2\", \"K3\"], \n",
    "\"A\": [\"A0\", \"A1\", \"A2\", \"A3\"], \n",
    "\"B\": [\"B0\", \"B1\", \"B2\", \"B3\"], \n",
    "}) \n",
    "# Second DataFrame \n",
    "right = pd.DataFrame({ \n",
    "\"key\": [\"K0\", \"K1\", \"K2\", \"K3\"], \n",
    "\"C\": [\"C0\", \"C1\", \"C2\", \"C3\"], \n",
    "\"D\": [\"D0\", \"D1\", \"D2\", \"D3\"], \n",
    "}) \n",
    "# Merging the DataFrames \n",
    "result = pd.merge(left, right, on=\"key\") \n",
    "# Printing the result \n",
    "print(result) "
   ]
  },
  {
   "cell_type": "markdown",
   "metadata": {},
   "source": [
    "2.Concatination"
   ]
  },
  {
   "cell_type": "code",
   "execution_count": 2,
   "metadata": {},
   "outputs": [
    {
     "name": "stdout",
     "output_type": "stream",
     "text": [
      "    id  Name\n",
      "0  T01  Jiya\n",
      "1  T02  Riya\n",
      "2  T03  Maya\n",
      "3  T04  Piya\n",
      "0  R05  Raam\n",
      "1  R06  Raaj\n",
      "2  R07  Naaz\n",
      "3  R08  Saaj\n"
     ]
    }
   ],
   "source": [
    "# Using concat function \n",
    "import pandas as pd \n",
    "# First DataFrame \n",
    "df1 = pd.DataFrame({ \n",
    "'id': ['T01', 'T02', 'T03', 'T04'], \n",
    "'Name': ['Jiya', 'Riya', 'Maya', 'Piya'] \n",
    "}) \n",
    "# Second DataFrame \n",
    "df2 = pd.DataFrame({ \n",
    "'id': ['R05', 'R06', 'R07', 'R08'], \n",
    "'Name': ['Raam', 'Raaj', 'Naaz', 'Saaj'] \n",
    "}) \n",
    "# List of DataFrames to concatenate \n",
    "frames = [df1, df2] \n",
    "# Concatenating the DataFrames \n",
    "result = pd.concat(frames) \n",
    "# Printing the result \n",
    "print(result)"
   ]
  },
  {
   "cell_type": "markdown",
   "metadata": {},
   "source": [
    "3.Melting"
   ]
  },
  {
   "cell_type": "code",
   "execution_count": 3,
   "metadata": {},
   "outputs": [
    {
     "name": "stdout",
     "output_type": "stream",
     "text": [
      "     Name  ID    Role\n",
      "0    Ravi   1     CEO\n",
      "1  Aniket   2  Editor\n",
      "2     Ana   3  Author\n",
      "   ID variable   value\n",
      "0   1     Name    Ravi\n",
      "1   2     Name  Aniket\n",
      "2   3     Name     Ana\n",
      "3   1     Role     CEO\n",
      "4   2     Role  Editor\n",
      "5   3     Role  Author\n"
     ]
    }
   ],
   "source": [
    "# Using melt() function \n",
    "import pandas as pd \n",
    "# Creating the DataFrame \n",
    "df1 = {\"Name\": [\"Ravi\", \"Aniket\", \"Ana\"], \"ID\": [1, 2, 3], \"Role\": \n",
    "[\"CEO\", \"Editor\", \"Author\"]} \n",
    "df = pd.DataFrame(df1) \n",
    "# Printing the original DataFrame \n",
    "print(df) \n",
    "# Melting the DataFrame \n",
    "df_melted = pd.melt(df, id_vars=[\"ID\"], value_vars=[\"Name\", \"Role\"]) \n",
    "# Printing the melted DataFrame \n",
    "print(df_melted)"
   ]
  },
  {
   "cell_type": "markdown",
   "metadata": {},
   "source": [
    "4.pivot"
   ]
  },
  {
   "cell_type": "code",
   "execution_count": 4,
   "metadata": {},
   "outputs": [
    {
     "name": "stdout",
     "output_type": "stream",
     "text": [
      "     Name  ID    Role\n",
      "0    Ravi   1     CEO\n",
      "1  Aniket   2  Editor\n",
      "2     Ana   3  Author\n",
      "   ID Attribute   Value\n",
      "0   1      Name    Ravi\n",
      "1   2      Name  Aniket\n",
      "2   3      Name     Ana\n",
      "3   1      Role     CEO\n",
      "4   2      Role  Editor\n",
      "5   3      Role  Author\n",
      "Attribute    Name    Role\n",
      "ID                       \n",
      "1            Ravi     CEO\n",
      "2          Aniket  Editor\n",
      "3             Ana  Author\n"
     ]
    }
   ],
   "source": [
    "import pandas as pd \n",
    "# Creating the DataFrame \n",
    "d1 = { \"Name\": [\"Ravi\", \"Aniket\", \"Ana\"], \"ID\": [1, 2, 3], \"Role\": \n",
    "[\"CEO\", \"Editor\", \"Author\"] \n",
    "} \n",
    "df = pd.DataFrame(d1) \n",
    "# Printing the original DataFrame \n",
    "print(df) \n",
    "# Melting the DataFrame \n",
    "df_melted = pd.melt(df, id_vars=[\"ID\"], value_vars=[\"Name\", \n",
    "\"Role\"], var_name=\"Attribute\", value_name=\"Value\") \n",
    "print(df_melted) \n",
    "# Unmelting using pivot() \n",
    "df_unmelted = df_melted.pivot(index='ID', columns='Attribute', \n",
    "values='Value') \n",
    "print(df_unmelted) "
   ]
  },
  {
   "cell_type": "markdown",
   "metadata": {},
   "source": [
    "5.Grouping"
   ]
  },
  {
   "cell_type": "code",
   "execution_count": 5,
   "metadata": {},
   "outputs": [
    {
     "name": "stdout",
     "output_type": "stream",
     "text": [
      "        Team  Rank  Year  Points\n",
      "0   Warriors     1  2004     876\n",
      "1   Fighters     2  2005     789\n",
      "2     Supers     2  2004     863\n",
      "3   Fighters     3  2005     673\n",
      "4   Warriors     3  2004     741\n",
      "5   Fighters     4  2005     812\n",
      "6   Fighters     1  2006     756\n",
      "7     Supers     1  2007     788\n",
      "8     Supers     2  2006     694\n",
      "9   Fighters     4  2004     701\n",
      "10  Warriors     1  2005     804\n",
      "11    Supers     2  2007     690\n",
      "{'Fighters': [1, 3, 5, 6, 9], 'Supers': [2, 7, 8, 11], 'Warriors': [0, 4, 10]}\n",
      "2004\n",
      "       Team  Rank  Year  Points\n",
      "0  Warriors     1  2004     876\n",
      "2    Supers     2  2004     863\n",
      "4  Warriors     3  2004     741\n",
      "9  Fighters     4  2004     701\n",
      "2005\n",
      "        Team  Rank  Year  Points\n",
      "1   Fighters     2  2005     789\n",
      "3   Fighters     3  2005     673\n",
      "5   Fighters     4  2005     812\n",
      "10  Warriors     1  2005     804\n",
      "2006\n",
      "       Team  Rank  Year  Points\n",
      "6  Fighters     1  2006     756\n",
      "8    Supers     2  2006     694\n",
      "2007\n",
      "      Team  Rank  Year  Points\n",
      "7   Supers     1  2007     788\n",
      "11  Supers     2  2007     690\n",
      "Year\n",
      "2004    795.25\n",
      "2005    769.50\n",
      "2006    725.00\n",
      "2007    739.00\n",
      "Name: Points, dtype: float64\n",
      "           sum    mean        std\n",
      "Team                             \n",
      "Fighters  3731  746.20  58.435434\n",
      "Supers    3035  758.75  82.951291\n",
      "Warriors  2421  807.00  67.549981\n",
      "        Team  Rank  Year  Points\n",
      "1   Fighters     2  2005     789\n",
      "2     Supers     2  2004     863\n",
      "3   Fighters     3  2005     673\n",
      "5   Fighters     4  2005     812\n",
      "6   Fighters     1  2006     756\n",
      "7     Supers     1  2007     788\n",
      "8     Supers     2  2006     694\n",
      "9   Fighters     4  2004     701\n",
      "11    Supers     2  2007     690\n"
     ]
    }
   ],
   "source": [
    "# Grouping data \n",
    "import pandas as pd \n",
    "# Sample data \n",
    "punepl_data = { \n",
    "'Team': ['Warriors', 'Fighters', 'Supers', 'Fighters', 'Warriors', \n",
    "'Fighters', 'Fighters', 'Supers', 'Supers', 'Fighters', 'Warriors', 'Supers'], \n",
    "'Rank': [1, 2, 2, 3, 3, 4, 1, 1, 2, 4, 1, 2], \n",
    "'Year': [2004, 2005, 2004, 2005, 2004, 2005, 2006, 2007, 2006, 2004, 2005, 2007], \n",
    "'Points': [876, 789, 863, 673, 741, 812, 756, 788, 694, 701, 804, 690] \n",
    "} \n",
    "# Create DataFrame \n",
    "df = pd.DataFrame(punepl_data) \n",
    "print(df) \n",
    "# Print groups by Team \n",
    "print(df.groupby('Team').groups) \n",
    "# Iterating through groups by Year \n",
    "grouped = df.groupby('Year') \n",
    "for name, group in grouped: \n",
    "    print(name) \n",
    "    print(group) \n",
    "# Applying grouping and then applying aggregate function\n",
    "grouped = df.groupby('Year') \n",
    "print(grouped['Points'].agg('mean'))  # Use string 'mean' instead of np.mean \n",
    "# Applying multiple aggregate functions \n",
    "grouped = df.groupby('Team') \n",
    "print(grouped['Points'].agg(['sum', 'mean', 'std']))  # Strings for aggregation functions \n",
    "# Applying filtration \n",
    "# Filter condition to return the teams which have participated four or more times in IPL \n",
    "print(df.groupby('Team').filter(lambda x: len(x) >= 4)) "
   ]
  },
  {
   "cell_type": "markdown",
   "metadata": {},
   "source": [
    "6.Aggregation"
   ]
  },
  {
   "cell_type": "code",
   "execution_count": 6,
   "metadata": {},
   "outputs": [
    {
     "name": "stdout",
     "output_type": "stream",
     "text": [
      "  First Name Last Name                Type      Department  YoE  Salary\n",
      "0       Mina       Das  Full-time Employee  Administration    2   20000\n",
      "1       Sima      Wani              Intern       Technical    3    5000\n",
      "2       Rima     Kapur  Full-time Employee  Administration    5   10000\n",
      "3       Sita     Pande  Part-time Employee       Technical    7   10000\n",
      "4       Rita     Kumar  Full-time Employee      Management    4   20000\n",
      "Department          Administration  Management  Technical\n",
      "Type                                                     \n",
      "Full-time Employee         15000.0     20000.0        NaN\n",
      "Intern                         NaN         NaN     5000.0\n",
      "Part-time Employee             NaN         NaN    10000.0\n",
      "                      sum          mean  count\n",
      "                   Salary        Salary Salary\n",
      "Type                                          \n",
      "Full-time Employee  50000  16666.666667      3\n",
      "Intern               5000   5000.000000      1\n",
      "Part-time Employee  10000  10000.000000      1\n",
      "                      sum          mean  count\n",
      "                   Salary        Salary Salary\n",
      "Type                                          \n",
      "Full-time Employee  50000  16666.666667      3\n",
      "Intern               5000   5000.000000      1\n",
      "Part-time Employee  10000  10000.000000      1\n",
      "Grand Total         65000  13000.000000      5\n"
     ]
    }
   ],
   "source": [
    "import pandas as pd \n",
    "import numpy as np \n",
    "# Creating the DataFrame \n",
    "df = pd.DataFrame({ \n",
    "'First Name': ['Mina', 'Sima', 'Rima', 'Sita', 'Rita'], \n",
    "'Last Name': ['Das', 'Wani', 'Kapur', 'Pande', 'Kumar'], \n",
    "'Type': ['Full-time Employee', 'Intern', 'Full-time Employee', 'Part-time Employee', 'Full-time Employee'], \n",
    "'Department': ['Administration', 'Technical', 'Administration', 'Technical', 'Management'], \n",
    "'YoE': [2, 3, 5, 7, 4], \n",
    "'Salary': [20000, 5000, 10000, 10000, 20000] \n",
    "}) \n",
    "print(df)\n",
    "# Creating a pivot table \n",
    "output = pd.pivot_table(data=df, \n",
    "index=['Type'], \n",
    "columns=['Department'], \n",
    "values='Salary', \n",
    "aggfunc='mean') \n",
    "print(output) \n",
    "# Pivot table with multiple aggfuncs \n",
    "output = pd.pivot_table(data=df, \n",
    "index=['Type'], \n",
    "values='Salary', \n",
    "aggfunc=['sum', 'mean', 'count']) \n",
    "print(output) \n",
    "# Calculate row and column totals (margins) \n",
    "output = pd.pivot_table(data=df, \n",
    "index=['Type'], \n",
    "values='Salary', \n",
    "aggfunc=['sum', 'mean', 'count'], \n",
    "margins=True, \n",
    "margins_name='Grand Total') \n",
    "print(output)"
   ]
  }
 ],
 "metadata": {
  "kernelspec": {
   "display_name": "Python 3",
   "language": "python",
   "name": "python3"
  },
  "language_info": {
   "codemirror_mode": {
    "name": "ipython",
    "version": 3
   },
   "file_extension": ".py",
   "mimetype": "text/x-python",
   "name": "python",
   "nbconvert_exporter": "python",
   "pygments_lexer": "ipython3",
   "version": "3.13.1"
  }
 },
 "nbformat": 4,
 "nbformat_minor": 2
}
