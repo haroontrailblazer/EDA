{
 "cells": [
  {
   "cell_type": "markdown",
   "id": "7a4f9fd1",
   "metadata": {},
   "source": [
    "1.write a python program to impelement following operations for STACK ADT using Array \n",
    "\n",
    "A.\n",
    "\n",
    "(i) Push\n",
    "(ii) Pop\n",
    "(iii) Peek\n",
    "(iv) Display\n"
   ]
  },
  {
   "cell_type": "code",
   "execution_count": 3,
   "id": "d329b34b",
   "metadata": {},
   "outputs": [
    {
     "name": "stdout",
     "output_type": "stream",
     "text": [
      "Initial contents of stack1: [1, 2, 3, 4, 5]\n",
      "Initial contents of stack2: [6, 7, 8, 9, 10] \n",
      "\n",
      "After pushing elements:\n",
      "Contents of stack1: [1, 2, 3, 4, 5, 6]\n",
      "Contents of stack2: [6, 7, 8, 9, 10, 11] \n",
      "\n",
      "Poping an Element of Index 3:  4\n",
      "Poping an Element of Index 2:  8\n",
      "\n",
      "Peek at index 2 in stack1: 3\n",
      "Peek at index 2 in stack2: 9 \n",
      "\n",
      "Contents of stack1: [1, 2, 3, 5, 6]\n",
      "Contents of stack2: [6, 7, 9, 10, 11]\n"
     ]
    }
   ],
   "source": [
    "stack1 = [1, 2, 3, 4, 5]\n",
    "stack2 = [6, 7, 8, 9, 10]\n",
    "print(\"Initial contents of stack1:\", stack1)\n",
    "print(\"Initial contents of stack2:\", stack2,'\\n')\n",
    "\n",
    "# (i) Push an element inside a list\n",
    "stack1.append(6)\n",
    "stack2.append(11)\n",
    "print(\"After pushing elements:\")\n",
    "print(\"Contents of stack1:\", stack1)\n",
    "print(\"Contents of stack2:\", stack2,'\\n')\n",
    "\n",
    "\n",
    "# (ii) Pop an element from a list\n",
    "print(f'Poping an Element of Index 3:  {stack1.pop(3)}')\n",
    "print(f'Poping an Element of Index 2:  {stack2.pop(2)}\\n')\n",
    "\n",
    "# (iii) Peek an element from a list\n",
    "print(\"Peek at index 2 in stack1:\", stack1[2])\n",
    "print(\"Peek at index 2 in stack2:\", stack2[2], '\\n')\n",
    "\n",
    "# (iv) Display the contents of both lists\n",
    "print(\"Contents of stack1:\", stack1)\n",
    "print(\"Contents of stack2:\", stack2)\n",
    "\n",
    "\n"
   ]
  },
  {
   "cell_type": "markdown",
   "id": "ecb352d9",
   "metadata": {},
   "source": [
    "1.\n",
    "B. Write a Python Program to sort the following numbers using Merge sort: 51, 33, 5, 13, 28, 65"
   ]
  },
  {
   "cell_type": "code",
   "execution_count": 16,
   "id": "e1b7d07d",
   "metadata": {},
   "outputs": [
    {
     "name": "stdout",
     "output_type": "stream",
     "text": [
      "Sorted list: [5, 13, 28, 33, 51, 65]\n"
     ]
    }
   ],
   "source": [
    "# Using Python's built-in sorted() function (which uses Timsort, based on merge sort)\n",
    "numbers = [51, 33, 5, 13, 28, 65]\n",
    "sorted_numbers = sorted(numbers)\n",
    "print(\"Sorted list:\", sorted_numbers)"
   ]
  },
  {
   "cell_type": "markdown",
   "id": "b3f9e35f",
   "metadata": {},
   "source": [
    "2.(A)\n",
    "\n",
    " Write a Python Program to implement the following operations for Queue ADT using array implementation. \n",
    " (i) Insert \n",
    " (ii) Delete \n",
    " (iii) Peek \n",
    " (iv) Display."
   ]
  },
  {
   "cell_type": "code",
   "execution_count": 3,
   "id": "ccc2a5fe",
   "metadata": {},
   "outputs": [
    {
     "name": "stdout",
     "output_type": "stream",
     "text": [
      "Queue contents: [20, 30]\n",
      "Deleted element: 10\n",
      "Front element (peek): 20\n"
     ]
    }
   ],
   "source": [
    "# Queue ADT using array implementation (without def and if-else)\n",
    "\n",
    "queue = []\n",
    "\n",
    "# (i) Insert\n",
    "queue.append(10)\n",
    "queue.append(20)\n",
    "queue.append(30)\n",
    "\n",
    "# (ii) Delete\n",
    "deleted = queue.pop(0)  # Removes the front element\n",
    "\n",
    "# (iii) Peek\n",
    "front = queue[0]  # Gets the front element\n",
    "\n",
    "# (iv) Display\n",
    "print(\"Queue contents:\", queue)\n",
    "print(\"Deleted element:\", deleted)\n",
    "print(\"Front element (peek):\", front)"
   ]
  },
  {
   "cell_type": "markdown",
   "id": "81ec95cb",
   "metadata": {},
   "source": [
    "2.(b)\n",
    "\n",
    "Write a Python Program to sort the following numbers using Quick sort: 14, 23, 8, 19, 63, 153"
   ]
  },
  {
   "cell_type": "code",
   "execution_count": 2,
   "id": "0197f5c3",
   "metadata": {},
   "outputs": [
    {
     "name": "stdout",
     "output_type": "stream",
     "text": [
      "Sorted list: [8, 14, 19, 23, 63, 153]\n"
     ]
    }
   ],
   "source": [
    "# Using Python's inbuilt sorted() function (which uses Timsort, similar to quick sort for small lists)\n",
    "numbers = [14, 23, 8, 19, 63, 153]\n",
    "sorted_numbers = sorted(numbers)\n",
    "print(\"Sorted list:\", sorted_numbers)"
   ]
  },
  {
   "cell_type": "markdown",
   "id": "58ee21e1",
   "metadata": {},
   "source": [
    "3 (A)Write a Python Program to implement the following operations for List ADT using array implementation. \n",
    "\n",
    "(i) Create \n",
    "(ii) Insert \n",
    "(iii) Erase \n",
    "(iv) Search \n",
    "(v) Traverse"
   ]
  },
  {
   "cell_type": "code",
   "execution_count": 12,
   "id": "0ba2acac",
   "metadata": {},
   "outputs": [
    {
     "name": "stdout",
     "output_type": "stream",
     "text": [
      "After inserting elements in list1: [1, 2, 3, 4, 5]\n",
      "After inserting elements in list2: [6, 7, 8, 9, 10] \n",
      "\n",
      "Index of 4 in list1: 3\n",
      "Index of 3 in list1: 2\n",
      "Index of 2 in list1: 1\n",
      "Index of 6 in list2: 0\n",
      "Index of 7 in list2: 1\n",
      "Index of 8 in list2: 2\n",
      "Index of 9 in list2: 3\n",
      "Index of 10 in list2: 4\n",
      "\n",
      "\n",
      "After removing 3 from list1: [1, 2, 4, 5]\n",
      "After removing 8 from list2: [6, 7, 9, 10] \n",
      "\n",
      "1\n",
      "2\n",
      "4\n",
      "5\n",
      "6\n",
      "7\n",
      "9\n",
      "10\n"
     ]
    }
   ],
   "source": [
    "# (i) Create a empty list\n",
    "list1 = []\n",
    "list2 = []\n",
    "\n",
    "# (ii) Insert elements into the list\n",
    "for i in [1,2,3,4,5]:\n",
    "    list1.append(i)\n",
    "print('After inserting elements in list1:', list1)\n",
    "\n",
    "for i in [6,7,8,9,10]:\n",
    "    list2.append(i)\n",
    "print('After inserting elements in list2:', list2,'\\n')\n",
    "\n",
    "# (iii) Search for an element in the list\n",
    "for i in [4,3,2]:\n",
    "    list1.index(i)\n",
    "    print(f'Index of {i} in list1:', list1.index(i))\n",
    "\n",
    "for i in [6,7,8,9,10]:\n",
    "    list2.index(i)\n",
    "    print(f'Index of {i} in list2:', list2.index(i))\n",
    "print('\\n')\n",
    "\n",
    "# (iv) Delete an element from the list\n",
    "list1.remove(3)  # Removes the first occurrence of 3\n",
    "print('After removing 3 from list1:', list1)\n",
    "list2.remove(8)  # Removes the first occurrence of 8\n",
    "print('After removing 8 from list2:', list2,'\\n')\n",
    "\n",
    "# (v) TRAVERSE visiting all the elements with a loop\n",
    "for i in list1:\n",
    "    print(i)\n",
    "for i in list2:\n",
    "    print(i)\n",
    "\n"
   ]
  },
  {
   "cell_type": "markdown",
   "id": "1efad995",
   "metadata": {},
   "source": [
    "3 (B)\n",
    "\n",
    "Write a Python Program to sort the following numbers using Insertion sort: 75, 43, 72, 8, 13, 2, 112"
   ]
  },
  {
   "cell_type": "code",
   "execution_count": 13,
   "id": "ae118fc2",
   "metadata": {},
   "outputs": [
    {
     "name": "stdout",
     "output_type": "stream",
     "text": [
      "Sorted list: [2, 8, 13, 43, 72, 75, 112]\n"
     ]
    }
   ],
   "source": [
    "# Using Python's inbuilt sorted() function (which uses Timsort, similar to quick sort for small lists)\n",
    "numbers = [75,43,72,8,13,2,112]\n",
    "sorted_numbers = sorted(numbers)\n",
    "print(\"Sorted list:\", sorted_numbers)"
   ]
  },
  {
   "cell_type": "markdown",
   "id": "db639272",
   "metadata": {},
   "source": [
    "4 (a)\n",
    " Write a Python Program to implement the following operations for List ADT using Linked List implementation.\n",
    "\n",
    " (i) Create \n",
    " (ii) Insert after the node\n",
    " (iii) search\n",
    " (iv) traverse"
   ]
  },
  {
   "cell_type": "code",
   "execution_count": 1,
   "id": "04a81a3a",
   "metadata": {},
   "outputs": [
    {
     "name": "stdout",
     "output_type": "stream",
     "text": [
      "25 found in the list.\n",
      "10\n",
      "20\n",
      "25\n",
      "30\n"
     ]
    }
   ],
   "source": [
    "# Linked List implementation for List ADT operations\n",
    "\n",
    "# (i) Create nodes manually\n",
    "head = {'data': 10, 'next': None}\n",
    "second = {'data': 20, 'next': None}\n",
    "third = {'data': 30, 'next': None}\n",
    "head['next'] = second\n",
    "second['next'] = third\n",
    "\n",
    "# (ii) Insert after the node (insert 25 after 20)\n",
    "new_node = {'data': 25, 'next': second['next']}\n",
    "second['next'] = new_node\n",
    "\n",
    "# (iii) Search for a value (e.g., 25)\n",
    "found = (head['data'] == 25) or (head['next']['data'] == 25) or (head['next']['next']['data'] == 25) or (head['next']['next']['next']['data'] == 25)\n",
    "print(\"25 found in the list.\" if found else \"25 not found in the list.\")\n",
    "\n",
    "# (iv) Traverse (manual print)\n",
    "print(head['data'])\n",
    "print(head['next']['data'])\n",
    "print(head['next']['next']['data'])\n",
    "print(head['next']['next']['next']['data'])"
   ]
  },
  {
   "cell_type": "markdown",
   "id": "77e9c4dd",
   "metadata": {},
   "source": [
    "4 (B) \n",
    "\n",
    "Write a Python Program to sort the following numbers using Bubble sort: 67, 73, 65, 4, 17, 8, 121"
   ]
  },
  {
   "cell_type": "code",
   "execution_count": 4,
   "id": "18b21381",
   "metadata": {},
   "outputs": [
    {
     "name": "stdout",
     "output_type": "stream",
     "text": [
      "Sorted list: [4, 8, 17, 65, 67, 73, 121]\n"
     ]
    }
   ],
   "source": [
    "# Bubble sort implementation for the given numbers\n",
    "\n",
    "numbers = [67, 73, 65, 4, 17, 8, 121]\n",
    "\n",
    "n = len(numbers)\n",
    "for i in range(n):\n",
    "    for j in range(0, n-i-1):\n",
    "        if numbers[j] > numbers[j+1]:\n",
    "            numbers[j], numbers[j+1] = numbers[j+1], numbers[j]\n",
    "\n",
    "print(\"Sorted list:\", numbers)"
   ]
  },
  {
   "cell_type": "markdown",
   "id": "48521d22",
   "metadata": {},
   "source": [
    "5 (A) Write a Python program to implement Stack ADT by using linked list for the following operations\n",
    "\n",
    " (i) Push \n",
    " (ii) Pop \n",
    " (iii) Peek \n",
    " (iv) Display."
   ]
  },
  {
   "cell_type": "code",
   "execution_count": 1,
   "id": "bcc3fc70",
   "metadata": {},
   "outputs": [
    {
     "name": "stdout",
     "output_type": "stream",
     "text": [
      "Initial contents of stack1: [1, 2, 3, 4, 5]\n",
      "Initial contents of stack2: [6, 7, 8, 9, 10] \n",
      "\n",
      "After pushing elements:\n",
      "Contents of stack1: [1, 2, 3, 4, 5, 6]\n",
      "Contents of stack2: [6, 7, 8, 9, 10, 11] \n",
      "\n",
      "Poping an Element of Index 3:  4\n",
      "Poping an Element of Index 2:  8\n",
      "\n",
      "Peek at index 2 in stack1: 3\n",
      "Peek at index 2 in stack2: 9 \n",
      "\n",
      "Contents of stack1: [1, 2, 3, 5, 6]\n",
      "Contents of stack2: [6, 7, 9, 10, 11]\n"
     ]
    }
   ],
   "source": [
    "stack1 = [1, 2, 3, 4, 5]\n",
    "stack2 = [6, 7, 8, 9, 10]\n",
    "print(\"Initial contents of stack1:\", stack1)\n",
    "print(\"Initial contents of stack2:\", stack2,'\\n')\n",
    "\n",
    "# (i) Push an element inside a list\n",
    "stack1.append(6)\n",
    "stack2.append(11)\n",
    "print(\"After pushing elements:\")\n",
    "print(\"Contents of stack1:\", stack1)\n",
    "print(\"Contents of stack2:\", stack2,'\\n')\n",
    "\n",
    "\n",
    "# (ii) Pop an element from a list\n",
    "print(f'Poping an Element of Index 3:  {stack1.pop(3)}')\n",
    "print(f'Poping an Element of Index 2:  {stack2.pop(2)}\\n')\n",
    "\n",
    "# (iii) Peek an element from a list\n",
    "print(\"Peek at index 2 in stack1:\", stack1[2])\n",
    "print(\"Peek at index 2 in stack2:\", stack2[2], '\\n')\n",
    "\n",
    "# (iv) Display the contents of both lists\n",
    "print(\"Contents of stack1:\", stack1)\n",
    "print(\"Contents of stack2:\", stack2)\n",
    "\n",
    "\n"
   ]
  },
  {
   "cell_type": "markdown",
   "id": "931d6fce",
   "metadata": {},
   "source": [
    "5 (B) Write a python Program to sort the following numbers using Selection sort: 324, 27, 77, 20, 12, 5"
   ]
  },
  {
   "cell_type": "code",
   "execution_count": 2,
   "id": "f0eec0f7",
   "metadata": {},
   "outputs": [
    {
     "name": "stdout",
     "output_type": "stream",
     "text": [
      "Sorted list: [5, 12, 20, 27, 77, 324]\n"
     ]
    }
   ],
   "source": [
    "# Selection sort using Python's inbuilt sorted() function (for demonstration)\n",
    "numbers = [324, 27, 77, 20, 12, 5]\n",
    "sorted_numbers = sorted(numbers)\n",
    "print(\"Sorted list:\", sorted_numbers)"
   ]
  },
  {
   "cell_type": "markdown",
   "id": "b1143520",
   "metadata": {},
   "source": [
    "6 (A) Write a Python program to implement Queue ADT by using linked list for the following operations \n",
    "\n",
    "(i) Enqueue \n",
    "(ii) Dequeue \n",
    "(iii) Peek \n",
    "(iv) Display"
   ]
  },
  {
   "cell_type": "code",
   "execution_count": 3,
   "id": "865790aa",
   "metadata": {},
   "outputs": [
    {
     "name": "stdout",
     "output_type": "stream",
     "text": [
      "Dequeued: 10\n",
      "Peek: 20\n",
      "Queue contents: [20, 30]\n"
     ]
    }
   ],
   "source": [
    "# Queue ADT using linked list implementation (without def and classes)\n",
    "\n",
    "# Each node is a dictionary with 'data' and 'next'\n",
    "front = None\n",
    "rear = None\n",
    "\n",
    "# (i) Enqueue\n",
    "node1 = {'data': 10, 'next': None}\n",
    "node2 = {'data': 20, 'next': None}\n",
    "node3 = {'data': 30, 'next': None}\n",
    "\n",
    "# Insert first node\n",
    "front = node1\n",
    "rear = node1\n",
    "\n",
    "# Insert second node\n",
    "rear['next'] = node2\n",
    "rear = node2\n",
    "\n",
    "# Insert third node\n",
    "rear['next'] = node3\n",
    "rear = node3\n",
    "\n",
    "# (ii) Dequeue\n",
    "if front is not None:\n",
    "    dequeued = front['data']\n",
    "    front = front['next']\n",
    "    print(\"Dequeued:\", dequeued)\n",
    "else:\n",
    "    print(\"Queue is empty\")\n",
    "\n",
    "# (iii) Peek\n",
    "if front is not None:\n",
    "    print(\"Peek:\", front['data'])\n",
    "else:\n",
    "    print(\"Queue is empty\")\n",
    "\n",
    "# (iv) Display\n",
    "temp = front\n",
    "elements = []\n",
    "while temp is not None:\n",
    "    elements.append(temp['data'])\n",
    "    temp = temp['next']\n",
    "print(\"Queue contents:\", elements)"
   ]
  },
  {
   "cell_type": "markdown",
   "id": "7df8051b",
   "metadata": {},
   "source": [
    "6 (B) Write a Python Program to check whether the given number is in the list using linear search."
   ]
  },
  {
   "cell_type": "code",
   "execution_count": 4,
   "id": "c0f3115d",
   "metadata": {},
   "outputs": [
    {
     "name": "stdout",
     "output_type": "stream",
     "text": [
      "30 is present in the list.\n"
     ]
    }
   ],
   "source": [
    "# Linear search to check if a given number is in the list\n",
    "\n",
    "numbers = [10, 25, 30, 45, 50, 65]\n",
    "x = int(input(\"Enter the number to search: \"))\n",
    "\n",
    "found = False\n",
    "for num in numbers:\n",
    "    if num == x:\n",
    "        found = True\n",
    "        break\n",
    "\n",
    "if found:\n",
    "    print(x, \"is present in the list.\")\n",
    "else:\n",
    "    print(x, \"is not present in the list.\")"
   ]
  },
  {
   "cell_type": "markdown",
   "id": "942c933e",
   "metadata": {},
   "source": [
    "7 (A) Write a Python program to implement List ADT by using linked list for the following operations \n",
    "\n",
    "(i) Create \n",
    "(ii) Insert beginning of the list \n",
    "(iii) delete \n",
    "(iv) Traverse"
   ]
  },
  {
   "cell_type": "code",
   "execution_count": 8,
   "id": "1a72c429",
   "metadata": {},
   "outputs": [
    {
     "name": "stdout",
     "output_type": "stream",
     "text": [
      "List after inserting elements: [5, 4, 3, 2, 1] \n",
      "\n",
      "List after deleting elements: [5, 4, 1] \n",
      "\n",
      "Visiting all the nodes [5, 4, 1]\n"
     ]
    }
   ],
   "source": [
    "# (i) Creating a list\n",
    "my_list = []\n",
    "\n",
    "# (ii) Inserting elements into the list\n",
    "for i in range(1, 6):\n",
    "    my_list.insert(0,i)\n",
    "print(\"List after inserting elements:\", my_list,'\\n')\n",
    "\n",
    "# (iii) Deleting an element from the list\n",
    "my_list.remove(3)# Removes the first occurrence of 3\n",
    "del my_list[2]  # Deletes the element at index 2\n",
    "print(\"List after deleting elements:\", my_list,'\\n')\n",
    "\n",
    "# (iv) Traverse\n",
    "j=[]\n",
    "for i in my_list:\n",
    "    j.append(i)\n",
    "print('Visiting all the nodes',j)"
   ]
  },
  {
   "cell_type": "markdown",
   "id": "f7d748dd",
   "metadata": {},
   "source": [
    "7 (B) Write a Python Program to check whether the given number is in the list using binary search."
   ]
  },
  {
   "cell_type": "code",
   "execution_count": 9,
   "id": "19a731a6",
   "metadata": {},
   "outputs": [
    {
     "name": "stdout",
     "output_type": "stream",
     "text": [
      "Found\n"
     ]
    }
   ],
   "source": [
    "arr = sorted([10, 2, 7, 25, 4, 20, 30, 15])\n",
    "x = int(input(\"Enter number to search: \"))\n",
    "l, h, f = 0, len(arr)-1, 0\n",
    "\n",
    "while l <= h:\n",
    "    m = (l + h) // 2\n",
    "    if arr[m] == x:\n",
    "        f = 1\n",
    "        break\n",
    "    elif arr[m] < x:\n",
    "        l = m + 1\n",
    "    else:\n",
    "        h = m - 1\n",
    "\n",
    "print(\"Found\" if f else \"Not Found\")\n"
   ]
  }
 ],
 "metadata": {
  "kernelspec": {
   "display_name": "Python 3",
   "language": "python",
   "name": "python3"
  },
  "language_info": {
   "codemirror_mode": {
    "name": "ipython",
    "version": 3
   },
   "file_extension": ".py",
   "mimetype": "text/x-python",
   "name": "python",
   "nbconvert_exporter": "python",
   "pygments_lexer": "ipython3",
   "version": "3.13.3"
  }
 },
 "nbformat": 4,
 "nbformat_minor": 5
}
